{
 "cells": [
  {
   "cell_type": "code",
   "execution_count": 1,
   "id": "60a406fd-dc86-41d4-a5ea-63781269f231",
   "metadata": {},
   "outputs": [],
   "source": [
    "import hisepy as hp\n",
    "\n",
    "import os\n",
    "\n",
    "import shutil\n"
   ]
  },
  {
   "cell_type": "code",
   "execution_count": 2,
   "id": "81afdb71-5d47-4d6e-b299-f4d88868ee59",
   "metadata": {},
   "outputs": [],
   "source": [
    "# help(hp.upload)"
   ]
  },
  {
   "cell_type": "code",
   "execution_count": 3,
   "id": "3be26947-2d5c-4f04-b832-b7b50caf0d5f",
   "metadata": {},
   "outputs": [],
   "source": [
    "# only do this once\n",
    "# hp.create_private_folder(folder_name='spatialdata', file_expiration = None)"
   ]
  },
  {
   "cell_type": "markdown",
   "id": "da9fefea-f60f-453a-b9b9-e5c3511c5cad",
   "metadata": {},
   "source": [
    "## Download"
   ]
  },
  {
   "cell_type": "code",
   "execution_count": 4,
   "id": "9e04f6b5-c707-4b9a-b1cd-3c21ee5d35ec",
   "metadata": {},
   "outputs": [],
   "source": [
    "def download_from_private_folder(dir, filename):\n",
    "    os.chdir(dir)\n",
    "    # download file\n",
    "    hp.download_from_private_folder(folder_name='spatialdata', file_name=filename)\n",
    "    \n",
    "    # move out of the spatial data folder and into parent\n",
    "    os.chdir(os.path.join(dir, 'spatialdata'))\n",
    "    shutil.move(filename, \"../\" + filename)\n",
    "    \n",
    "    # delete spatial data folder\n",
    "    os.chdir(dir)\n",
    "    shutil.rmtree('spatialdata')\n",
    "    "
   ]
  },
  {
   "cell_type": "code",
   "execution_count": 26,
   "id": "d02cafff-8188-4931-9402-721ae4ec983b",
   "metadata": {},
   "outputs": [
    {
     "name": "stdout",
     "output_type": "stream",
     "text": [
      "file successfully downloaded: /home/jupyter/spatial_piloting_abadie/cell_labeling/outputs_3DTonsil_updated_workflow/spatialdata/adata_3DTonsil_scvi_cellcharter_leiden_predictzones_scanvi.h5ad\n"
     ]
    }
   ],
   "source": [
    "# tonsil adata with scanvi predictions \n",
    "dir = '/home/jupyter/spatial_piloting_abadie/cell_labeling/outputs_3DTonsil_updated_workflow'\n",
    "filename = 'adata_3DTonsil_scvi_cellcharter_leiden_predictzones_scanvi.h5ad'\n",
    "download_from_private_folder(dir, filename)"
   ]
  },
  {
   "cell_type": "code",
   "execution_count": 27,
   "id": "13f414af-bc49-4f53-a15d-25c6f4a9778a",
   "metadata": {},
   "outputs": [
    {
     "name": "stdout",
     "output_type": "stream",
     "text": [
      "file successfully downloaded: /home/jupyter/spatial_piloting_abadie/cell_labeling/outputs_3DTonsil_updated_workflow/spatialdata/scvi_model_3DTonsil_model2_1kseed_model.pt\n"
     ]
    }
   ],
   "source": [
    "# tonsil scvi model from scanvi process\n",
    "dir = '/home/jupyter/spatial_piloting_abadie/cell_labeling/outputs_3DTonsil_updated_workflow'\n",
    "filename = 'scvi_model_3DTonsil_model2_1kseed_model.pt'\n",
    "download_from_private_folder(dir, filename)"
   ]
  },
  {
   "cell_type": "code",
   "execution_count": 13,
   "id": "188c2b72-7fbc-47a2-b92b-877544f0505d",
   "metadata": {},
   "outputs": [
    {
     "name": "stdout",
     "output_type": "stream",
     "text": [
      "file successfully downloaded: /home/jupyter/spatial_piloting_abadie/cell_labeling/outputs_LN_aim1a_aim1b_1-12_updated_workflow/spatialdata/adata_LN_aim1a_aim1b_1-12_scvi_scanvi_model1.h5ad\n"
     ]
    }
   ],
   "source": [
    "# all 10 LN \n",
    "dir = '/home/jupyter/spatial_piloting_abadie/cell_labeling/outputs_LN_aim1a_aim1b_1-12_updated_workflow'\n",
    "filename = 'adata_LN_aim1a_aim1b_1-12_scvi_scanvi_model1.h5ad'\n",
    "download_from_private_folder(dir, filename)\n"
   ]
  },
  {
   "cell_type": "code",
   "execution_count": 5,
   "id": "f4a09f5d-4ea0-4c74-a7e7-b5dc5b1fb044",
   "metadata": {},
   "outputs": [
    {
     "name": "stdout",
     "output_type": "stream",
     "text": [
      "file successfully downloaded: /home/jupyter/spatial_piloting_abadie/distance_analysis/outputs_3DTonsil_updated_workflow_3Dvis/spatialdata/aligned_coordinates.csv\n"
     ]
    }
   ],
   "source": [
    "# tonsil aligned coordinates from SPACEL Scube\n",
    "dir = '/home/jupyter/spatial_piloting_abadie/distance_analysis/outputs_3DTonsil_updated_workflow_3Dvis'\n",
    "filename = 'aligned_coordinates.csv'\n",
    "download_from_private_folder(dir, filename)"
   ]
  },
  {
   "cell_type": "code",
   "execution_count": 9,
   "id": "1dec6af3-574b-4b22-aa36-edac164b3501",
   "metadata": {},
   "outputs": [
    {
     "name": "stdout",
     "output_type": "stream",
     "text": [
      "file successfully downloaded: /home/jupyter/spatial_piloting_abadie/proseg_eval/spatialdata/adata_proseg_TIS02794-002.h5ad\n",
      "file successfully downloaded: /home/jupyter/spatial_piloting_abadie/proseg_eval/spatialdata/adata_proseg_TIS02805-001.h5ad\n"
     ]
    }
   ],
   "source": [
    "# proseg results\n",
    "dir = '/home/jupyter/spatial_piloting_abadie/proseg_eval'\n",
    "\n",
    "filename = 'adata_proseg_TIS02794-002.h5ad'\n",
    "download_from_private_folder(dir, filename)\n",
    "\n",
    "filename = 'adata_proseg_TIS02805-001.h5ad'\n",
    "download_from_private_folder(dir, filename)"
   ]
  },
  {
   "cell_type": "code",
   "execution_count": 8,
   "id": "63c77c1e-da13-479d-b4b7-14f259a8d2e5",
   "metadata": {},
   "outputs": [
    {
     "name": "stdout",
     "output_type": "stream",
     "text": [
      "file successfully downloaded: /home/jupyter/spatial_piloting_abadie/proseg_eval/spatialdata/adata_proseg_TIS02785-002_R.h5ad\n"
     ]
    }
   ],
   "source": [
    "dir = '/home/jupyter/spatial_piloting_abadie/proseg_eval'\n",
    "filename = 'adata_proseg_TIS02785-002_R.h5ad'\n",
    "download_from_private_folder(dir, filename)"
   ]
  },
  {
   "cell_type": "code",
   "execution_count": 5,
   "id": "fcf0f894-3bd0-4499-8696-720d499ac032",
   "metadata": {},
   "outputs": [
    {
     "name": "stdout",
     "output_type": "stream",
     "text": [
      "file successfully downloaded: /home/jupyter/spatial_piloting_abadie/proseg_eval/spatialdata/adata_proseg_TIS06055-001-015.h5ad\n"
     ]
    }
   ],
   "source": [
    "dir = '/home/jupyter/spatial_piloting_abadie/proseg_eval'\n",
    "filename = 'adata_proseg_TIS06055-001-015.h5ad'\n",
    "download_from_private_folder(dir, filename)"
   ]
  },
  {
   "cell_type": "code",
   "execution_count": 5,
   "id": "8f118448-e3e7-413d-9b2e-89b04f123e4c",
   "metadata": {},
   "outputs": [
    {
     "name": "stdout",
     "output_type": "stream",
     "text": [
      "file successfully downloaded: /home/jupyter/spatial_piloting_abadie/cellcharter_analysis/outputs_Tonsil_3D_proseg/spatialdata/adata_proseg_tonsil_3D_scvi_mde_cellcharter.h5ad\n"
     ]
    }
   ],
   "source": [
    "dir = '/home/jupyter/spatial_piloting_abadie/cellcharter_analysis/outputs_Tonsil_3D_proseg'\n",
    "filename = 'adata_proseg_tonsil_3D_scvi_mde_cellcharter.h5ad'\n",
    "download_from_private_folder(dir, filename)"
   ]
  },
  {
   "cell_type": "markdown",
   "id": "884e1ecb-3b00-4a16-85d9-185db04cdddd",
   "metadata": {},
   "source": [
    "## Upload"
   ]
  },
  {
   "cell_type": "code",
   "execution_count": 4,
   "id": "ea852ebc-90f0-4505-a50e-1c1715cad283",
   "metadata": {},
   "outputs": [
    {
     "data": {
      "text/plain": [
       "{'message': 'Successfully uploaded file.',\n",
       " 'file': 'adata_scvi_cellcharter_predictzones.h5ad'}"
      ]
     },
     "execution_count": 4,
     "metadata": {},
     "output_type": "execute_result"
    }
   ],
   "source": [
    "filepath = '/home/jupyter/spatial_piloting_abadie/cellcharter_analysis/outputs_3Dlongdist_TIS06055/adata_scvi_cellcharter_predictzones.h5ad'\n",
    "hp.upload_file_to_private_folder(folder_name='spatialdata', file_path=filepath)\n"
   ]
  },
  {
   "cell_type": "code",
   "execution_count": 6,
   "id": "8780ee93-cc23-4e34-8fd1-fcbf95350d52",
   "metadata": {},
   "outputs": [
    {
     "data": {
      "text/plain": [
       "{'message': 'Successfully uploaded file.',\n",
       " 'file': 'adata_LN_aim1a_aim1b_scvi_cellcharter_leiden_predictzones.h5ad'}"
      ]
     },
     "execution_count": 6,
     "metadata": {},
     "output_type": "execute_result"
    }
   ],
   "source": [
    "filepath = '/home/jupyter/spatial_piloting_abadie/cellcharter_analysis/outputs_LN_aim1a_aim1b_updated_workflow/adata_LN_aim1a_aim1b_scvi_cellcharter_leiden_predictzones.h5ad'\n",
    "hp.upload_file_to_private_folder(folder_name='spatialdata', file_path=filepath)\n"
   ]
  },
  {
   "cell_type": "code",
   "execution_count": 8,
   "id": "bf9ce656-6eaa-4ba9-a0ac-a5edef5631c8",
   "metadata": {},
   "outputs": [
    {
     "data": {
      "text/plain": [
       "{'message': 'Successfully uploaded file.',\n",
       " 'file': 'xenium_cell_labeling_3DTonsil_updated_workflow_seed_labeling.ipynb'}"
      ]
     },
     "execution_count": 8,
     "metadata": {},
     "output_type": "execute_result"
    }
   ],
   "source": [
    "filepath = '/home/jupyter/spatial_piloting_abadie/cell_labeling/xenium_cell_labeling_3DTonsil_updated_workflow_seed_labeling.ipynb'\n",
    "hp.upload_file_to_private_folder(folder_name='spatialdata', file_path=filepath)\n"
   ]
  },
  {
   "cell_type": "code",
   "execution_count": 7,
   "id": "2bfe882f-18e3-49e0-904e-e402675e5721",
   "metadata": {},
   "outputs": [
    {
     "data": {
      "text/plain": [
       "{'message': 'Successfully uploaded file.',\n",
       " 'file': 'adata_LN_aim1a_aim1b_1-12_correct.h5ad'}"
      ]
     },
     "execution_count": 7,
     "metadata": {},
     "output_type": "execute_result"
    }
   ],
   "source": [
    "filepath = '/home/jupyter/spatial_piloting_abadie/cellcharter_analysis/outputs_LN_aim1a_aim1b_1-12_updated_workflow/adata_LN_aim1a_aim1b_1-12_correct.h5ad'\n",
    "hp.upload_file_to_private_folder(folder_name='spatialdata', file_path=filepath)\n"
   ]
  },
  {
   "cell_type": "code",
   "execution_count": 5,
   "id": "4669db2b-3e86-4711-9f4a-4e049276e41d",
   "metadata": {},
   "outputs": [
    {
     "data": {
      "text/plain": [
       "{'message': 'Successfully uploaded file.',\n",
       " 'file': 'adata_TIS02805-001-009_processed_1e4.h5ad'}"
      ]
     },
     "execution_count": 5,
     "metadata": {},
     "output_type": "execute_result"
    }
   ],
   "source": [
    "filepath = '/home/jupyter/spatial_piloting_abadie/data_import/outputs_LN_aim1b_1-2-3-4/adata_TIS02805-001-009_processed_1e4.h5ad'\n",
    "hp.upload_file_to_private_folder(folder_name='spatialdata', file_path=filepath)"
   ]
  },
  {
   "cell_type": "code",
   "execution_count": 2,
   "id": "6456ed10-ae0b-48ec-a2e0-2636e1e4ec86",
   "metadata": {},
   "outputs": [
    {
     "data": {
      "text/plain": [
       "{'message': 'Successfully uploaded file.',\n",
       " 'file': 'xenium_cellcharter_LN_aim1_all_proseg.ipynb'}"
      ]
     },
     "execution_count": 2,
     "metadata": {},
     "output_type": "execute_result"
    }
   ],
   "source": [
    "# cellcharter notebook \n",
    "filepath = '/home/jupyter/spatial_piloting_abadie/cellcharter_analysis/xenium_cellcharter_LN_aim1_all_proseg.ipynb'\n",
    "hp.upload_file_to_private_folder(folder_name='spatialdata', file_path=filepath)"
   ]
  },
  {
   "cell_type": "code",
   "execution_count": null,
   "id": "e62da437-6658-4f18-98b6-cafdd890c236",
   "metadata": {},
   "outputs": [],
   "source": []
  }
 ],
 "metadata": {
  "kernelspec": {
   "display_name": "Python 3 (ipykernel)",
   "language": "python",
   "name": "python3"
  },
  "language_info": {
   "codemirror_mode": {
    "name": "ipython",
    "version": 3
   },
   "file_extension": ".py",
   "mimetype": "text/x-python",
   "name": "python",
   "nbconvert_exporter": "python",
   "pygments_lexer": "ipython3",
   "version": "3.10.13"
  }
 },
 "nbformat": 4,
 "nbformat_minor": 5
}
