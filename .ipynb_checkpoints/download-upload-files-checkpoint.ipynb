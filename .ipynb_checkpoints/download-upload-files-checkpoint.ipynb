{
 "cells": [
  {
   "cell_type": "code",
   "execution_count": 17,
   "id": "60a406fd-dc86-41d4-a5ea-63781269f231",
   "metadata": {},
   "outputs": [],
   "source": [
    "import hisepy as hp\n",
    "\n",
    "import os\n",
    "\n",
    "import shutil\n"
   ]
  },
  {
   "cell_type": "code",
   "execution_count": 14,
   "id": "81afdb71-5d47-4d6e-b299-f4d88868ee59",
   "metadata": {},
   "outputs": [],
   "source": [
    "# help(hp.upload)"
   ]
  },
  {
   "cell_type": "code",
   "execution_count": 15,
   "id": "3be26947-2d5c-4f04-b832-b7b50caf0d5f",
   "metadata": {},
   "outputs": [],
   "source": [
    "# only do this once\n",
    "# hp.create_private_folder(folder_name='spatialdata', file_expiration = None)"
   ]
  },
  {
   "cell_type": "markdown",
   "id": "da9fefea-f60f-453a-b9b9-e5c3511c5cad",
   "metadata": {},
   "source": [
    "## Download"
   ]
  },
  {
   "cell_type": "code",
   "execution_count": 16,
   "id": "c9c44a86-8da8-45b1-80c2-ce39c6fc7f48",
   "metadata": {},
   "outputs": [
    {
     "name": "stdout",
     "output_type": "stream",
     "text": [
      "file successfully downloaded: /home/jupyter/spatial_piloting_abadie/cell_labeling/outputs_LN_aim1a_aim1b_updated_workflow/spatialdata/adata_LN_aim1a_aim1b_scvi_cellcharter_leiden_predictzones_scanvi.h5ad\n"
     ]
    }
   ],
   "source": [
    "dir = '/home/jupyter/spatial_piloting_abadie/cell_labeling/outputs_LN_aim1a_aim1b_updated_workflow'\n",
    "\n",
    "os.chdir(dir)\n",
    "\n",
    "# download file\n",
    "filename = 'adata_LN_aim1a_aim1b_scvi_cellcharter_leiden_predictzones_scanvi.h5ad'\n",
    "hp.download_from_private_folder(folder_name='spatialdata', file_name=filename)\n",
    "\n",
    "# move out of the spatial data folder and into parent\n",
    "os.chdir(os.path.join(dir, 'spatialdata'))\n",
    "shutil.move(filename, \"../\" + filename)\n",
    "\n",
    "# delete spatial data folder\n",
    "os.chdir(dir)\n",
    "shutil.rmtree('spatialdata')"
   ]
  },
  {
   "cell_type": "code",
   "execution_count": 19,
   "id": "a7d6fc38-7b69-4b52-821a-bd25653096bf",
   "metadata": {},
   "outputs": [
    {
     "data": {
      "text/plain": [
       "'../adata_LN_aim1a_aim1b_scvi_cellcharter_leiden_predictzones_scanvi.h5ad'"
      ]
     },
     "execution_count": 19,
     "metadata": {},
     "output_type": "execute_result"
    }
   ],
   "source": [
    "# move out of the spatial data folder and into parent\n",
    "os.chdir('/home/jupyter/spatial_piloting_abadie/cell_labeling/outputs_LN_aim1a_aim1b_updated_workflow/spatialdata')\n",
    "shutil.move(filename, \"../\" + filename)"
   ]
  },
  {
   "cell_type": "code",
   "execution_count": 21,
   "id": "216da17e-2aa4-41f7-a83c-e6abc07ac740",
   "metadata": {},
   "outputs": [],
   "source": [
    "os.chdir('/home/jupyter/spatial_piloting_abadie/cell_labeling/outputs_LN_aim1a_aim1b_updated_workflow')\n",
    "shutil.rmtree('spatialdata')"
   ]
  },
  {
   "cell_type": "markdown",
   "id": "884e1ecb-3b00-4a16-85d9-185db04cdddd",
   "metadata": {},
   "source": [
    "## Upload"
   ]
  },
  {
   "cell_type": "code",
   "execution_count": 4,
   "id": "ea852ebc-90f0-4505-a50e-1c1715cad283",
   "metadata": {},
   "outputs": [
    {
     "data": {
      "text/plain": [
       "{'message': 'Successfully uploaded file.',\n",
       " 'file': 'adata_scvi_cellcharter_predictzones.h5ad'}"
      ]
     },
     "execution_count": 4,
     "metadata": {},
     "output_type": "execute_result"
    }
   ],
   "source": [
    "filepath = '/home/jupyter/spatial_piloting_abadie/cellcharter_analysis/outputs_3Dlongdist_TIS06055/adata_scvi_cellcharter_predictzones.h5ad'\n",
    "hp.upload_file_to_private_folder(folder_name='spatialdata', file_path=filepath)\n"
   ]
  },
  {
   "cell_type": "code",
   "execution_count": 6,
   "id": "8780ee93-cc23-4e34-8fd1-fcbf95350d52",
   "metadata": {},
   "outputs": [
    {
     "data": {
      "text/plain": [
       "{'message': 'Successfully uploaded file.',\n",
       " 'file': 'adata_LN_aim1a_aim1b_scvi_cellcharter_leiden_predictzones.h5ad'}"
      ]
     },
     "execution_count": 6,
     "metadata": {},
     "output_type": "execute_result"
    }
   ],
   "source": [
    "filepath = '/home/jupyter/spatial_piloting_abadie/cellcharter_analysis/outputs_LN_aim1a_aim1b_updated_workflow/adata_LN_aim1a_aim1b_scvi_cellcharter_leiden_predictzones.h5ad'\n",
    "hp.upload_file_to_private_folder(folder_name='spatialdata', file_path=filepath)\n"
   ]
  },
  {
   "cell_type": "code",
   "execution_count": 8,
   "id": "bf9ce656-6eaa-4ba9-a0ac-a5edef5631c8",
   "metadata": {},
   "outputs": [
    {
     "data": {
      "text/plain": [
       "{'message': 'Successfully uploaded file.',\n",
       " 'file': 'xenium_cell_labeling_3DTonsil_updated_workflow_seed_labeling.ipynb'}"
      ]
     },
     "execution_count": 8,
     "metadata": {},
     "output_type": "execute_result"
    }
   ],
   "source": [
    "filepath = '/home/jupyter/spatial_piloting_abadie/cell_labeling/xenium_cell_labeling_3DTonsil_updated_workflow_seed_labeling.ipynb'\n",
    "hp.upload_file_to_private_folder(folder_name='spatialdata', file_path=filepath)\n"
   ]
  },
  {
   "cell_type": "code",
   "execution_count": null,
   "id": "2bfe882f-18e3-49e0-904e-e402675e5721",
   "metadata": {},
   "outputs": [],
   "source": []
  }
 ],
 "metadata": {
  "kernelspec": {
   "display_name": "Python 3 (ipykernel)",
   "language": "python",
   "name": "python3"
  },
  "language_info": {
   "codemirror_mode": {
    "name": "ipython",
    "version": 3
   },
   "file_extension": ".py",
   "mimetype": "text/x-python",
   "name": "python",
   "nbconvert_exporter": "python",
   "pygments_lexer": "ipython3",
   "version": "3.10.13"
  }
 },
 "nbformat": 4,
 "nbformat_minor": 5
}
