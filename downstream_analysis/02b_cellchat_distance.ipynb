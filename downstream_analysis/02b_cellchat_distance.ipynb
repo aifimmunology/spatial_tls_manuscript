{
 "cells": [
  {
   "cell_type": "code",
   "execution_count": 1,
   "metadata": {
    "vscode": {
     "languageId": "r"
    }
   },
   "outputs": [],
   "source": [
    "# install packages - did this in command line conda environment\n",
    "# remotes::install_github(\"jokergoo/circlize@9b21578\")\n",
    "# remotes::install_github(\"jokergoo/ComplexHeatmap@7d95ca5\")\n",
    "# remotes::install_github(\"immunogenomics/presto@31dc97f\")\n",
    "# remotes::install_github(\"jinworks/CellChat@88c2e13\")\n",
    "# BiocManager::install(\"GenomeInfoDbData\")"
   ]
  },
  {
   "cell_type": "code",
   "execution_count": 1,
   "metadata": {
    "vscode": {
     "languageId": "r"
    }
   },
   "outputs": [],
   "source": [
    "suppressPackageStartupMessages({\n",
    "    library(tidyverse)\n",
    "    library(zellkonverter)\n",
    "    # library(scater)\n",
    "    #library(scran)\n",
    "    # library(scuttle)\n",
    "    library(SingleCellExperiment)\n",
    "    library(CellChat)\n",
    "})"
   ]
  },
  {
   "cell_type": "code",
   "execution_count": 2,
   "metadata": {},
   "outputs": [],
   "source": [
    "dist_out_dir <- \"/home/workspace/spatial_mouse_lung_outputs/downstream_analysis/distance\"\n",
    "\n",
    "cellchat_out_dir <- file.path(dist_out_dir, \"cellchat_distance\")\n",
    "if (!dir.exists(cellchat_out_dir)) {\n",
    "  dir.create(cellchat_out_dir, recursive = TRUE)\n",
    "}\n",
    "\n"
   ]
  },
  {
   "cell_type": "code",
   "execution_count": 3,
   "metadata": {
    "vscode": {
     "languageId": "r"
    }
   },
   "outputs": [
    {
     "name": "stderr",
     "output_type": "stream",
     "text": [
      "Warning message:\n",
      "“\u001b[1m\u001b[22mThe names of these selected \u001b[32muns\u001b[39m items have been modified to match R\n",
      "conventions: \u001b[32m'_scvi_manager_uuid' -> 'X_scvi_manager_uuid'\u001b[39m and \u001b[32m'_scvi_uuid' ->\u001b[39m\n",
      "\u001b[32m'X_scvi_uuid'\u001b[39m”\n",
      "Warning message:\n",
      "“\u001b[1m\u001b[22mThe names of these selected \u001b[32mobs\u001b[39m columns have been modified to match R\n",
      "conventions: \u001b[32m'_scvi_batch' -> 'X_scvi_batch'\u001b[39m and \u001b[32m'_scvi_labels' ->\u001b[39m\n",
      "\u001b[32m'X_scvi_labels'\u001b[39m”\n"
     ]
    }
   ],
   "source": [
    "sce = readH5AD(file.path(dist_out_dir, \"adata_cellchat_distance_prepped.h5ad\"))"
   ]
  },
  {
   "cell_type": "code",
   "execution_count": 4,
   "metadata": {
    "vscode": {
     "languageId": "r"
    }
   },
   "outputs": [],
   "source": [
    "#sce$Timepoint <- stringr::str_extract(sce$batch, \"\\\\d+\")\n",
    "sce$sample_label <- factor(sce$sample_label, levels = c(\"HDM_day3\", \"HDM_day30\"))"
   ]
  },
  {
   "cell_type": "code",
   "execution_count": 5,
   "metadata": {},
   "outputs": [
    {
     "data": {
      "text/html": [
       "<style>\n",
       ".list-inline {list-style: none; margin:0; padding: 0}\n",
       ".list-inline>li {display: inline-block}\n",
       ".list-inline>li:not(:last-child)::after {content: \"\\00b7\"; padding: 0 .5ex}\n",
       "</style>\n",
       "<ol class=list-inline><li>'X_pca'</li><li>'X_scANVI'</li><li>'X_scVI_refalign'</li><li>'X_umap'</li><li>'X_umap_scanvi_refalign'</li><li>'X_umap_scvi_refalign'</li><li>'spatial'</li></ol>\n"
      ],
      "text/latex": [
       "\\begin{enumerate*}\n",
       "\\item 'X\\_pca'\n",
       "\\item 'X\\_scANVI'\n",
       "\\item 'X\\_scVI\\_refalign'\n",
       "\\item 'X\\_umap'\n",
       "\\item 'X\\_umap\\_scanvi\\_refalign'\n",
       "\\item 'X\\_umap\\_scvi\\_refalign'\n",
       "\\item 'spatial'\n",
       "\\end{enumerate*}\n"
      ],
      "text/markdown": [
       "1. 'X_pca'\n",
       "2. 'X_scANVI'\n",
       "3. 'X_scVI_refalign'\n",
       "4. 'X_umap'\n",
       "5. 'X_umap_scanvi_refalign'\n",
       "6. 'X_umap_scvi_refalign'\n",
       "7. 'spatial'\n",
       "\n",
       "\n"
      ],
      "text/plain": [
       "[1] \"X_pca\"                  \"X_scANVI\"               \"X_scVI_refalign\"       \n",
       "[4] \"X_umap\"                 \"X_umap_scanvi_refalign\" \"X_umap_scvi_refalign\"  \n",
       "[7] \"spatial\"               "
      ]
     },
     "metadata": {},
     "output_type": "display_data"
    }
   ],
   "source": [
    "reducedDimNames(sce)"
   ]
  },
  {
   "cell_type": "code",
   "execution_count": 6,
   "metadata": {
    "vscode": {
     "languageId": "r"
    }
   },
   "outputs": [],
   "source": [
    "run_cellchat <- function(sce_tmp, name, out_dir) {\n",
    "    \n",
    "    print(\"step: data.input\"); flush.console()\n",
    "    data.input = assay(sce_tmp, \"X\") # X are the log norm counts here, see part 1\n",
    "    meta = data.frame(labels = sce_tmp$label_fine,\n",
    "                    samples = sce_tmp$sample_label_cp, # (KA - I only have one sample, this is just a copy of sample_label\n",
    "                    row.names = colnames(sce_tmp))\n",
    "    print(\"step: spatial.locs\"); flush.console()\n",
    "    # spatial.locs = reducedDim(sce_tmp, 'spatial') |> as.data.frame() # KA this gives me an error \n",
    "    # spatial.locs = as.matrix(reducedDim(sce_tmp, 'spatial')) # this takes a long time\n",
    "    spatial.locs = reducedDim(sce_tmp, 'spatial')  # try this\n",
    "    scale.factors = list(spot.diameter = 5, spot = 5)\n",
    "    spatial.factors = data.frame(ratio = 1, tol = 5)\n",
    "\n",
    "    print(\"running: createCellChat\")\n",
    "    cellchat <-\n",
    "        createCellChat(\n",
    "            object = data.input,\n",
    "            meta = meta,\n",
    "            group.by = \"labels\",\n",
    "            datatype = \"spatial\",\n",
    "            coordinates = spatial.locs,\n",
    "            spatial.factors = spatial.factors\n",
    "        )\n",
    "\n",
    "\n",
    "    CellChatDB <- CellChatDB.mouse # use CellChatDB.human if running on human data\n",
    "\n",
    "\n",
    "    # use a subset of CellChatDB for cell-cell communication analysis\n",
    "    # CellChatDB.use <- subsetDB(CellChatDB, search = \"Secreted Signaling\") # use Secreted Signaling\n",
    "    # use all CellChatDB for cell-cell communication analysis\n",
    "    CellChatDB.use <- CellChatDB # simply use the default CellChatDB\n",
    "\n",
    "    # set the used database in the object\n",
    "    cellchat@DB <- CellChatDB.use\n",
    "\n",
    "    # subset the expression data of signaling genes for saving computation cost\n",
    "    cellchat <- subsetData(cellchat) # This step is necessary even if using the whole database\n",
    "\n",
    "    # future::plan(\"multisession\", workers = 8) # do parallel\n",
    "    print(\"running: identifyOverExpressedGenes, identifyOverExpressedInteractions\")\n",
    "    cellchat <- identifyOverExpressedGenes(cellchat)\n",
    "    cellchat <- identifyOverExpressedInteractions(cellchat)\n",
    "\n",
    "    # Typically, contact.range = 10, which is a typical human cell size\n",
    "    print(\"running: computeCommunProb\")\n",
    "    cellchat <- computeCommunProb(cellchat,\n",
    "        # type = \"truncatedMean\", trim = 0.1, # try 0.1, could lower to 0.05\n",
    "        type = \"truncatedMean\", trim = 0.05, # try 0.1, could lower to 0.05\n",
    "        distance.use = TRUE, interaction.range = 100,\n",
    "        scale.distance = 1,\n",
    "        contact.dependent = TRUE, contact.range = 10\n",
    "    )\n",
    "    # Filter out the cell-cell communication if there are only few number of cells in certain cell groups\n",
    "    print(\"running: filterCommunication\")\n",
    "    cellchat <- filterCommunication(cellchat, min.cells = 10)\n",
    "\n",
    "    print(\"running: computeCommunProbPathway\")\n",
    "    cellchat <- computeCommunProbPathway(cellchat)\n",
    "    cellchat <- aggregateNet(cellchat)\n",
    "\n",
    "    print(paste(\"running: saveRDS for sample: \", name))\n",
    "    # saveRDS(cellchat, file = file.path(out_dir, paste0(\"cellchat_trim01_\",name,\".rds\")))\n",
    "    saveRDS(cellchat, file = file.path(out_dir, paste0(\"cellchat_trim05_\",name,\".rds\")))\n",
    "}"
   ]
  },
  {
   "cell_type": "code",
   "execution_count": 11,
   "metadata": {
    "vscode": {
     "languageId": "r"
    }
   },
   "outputs": [],
   "source": [
    "cellchat_sample <- function(sce, sample_label_select, out_dir) {\n",
    "\n",
    "    sce_tmp = sce[,sce$sample_label == sample_label_select]\n",
    "\n",
    "    # try on subset\n",
    "    sce_tmp <- sce_tmp[, sample(1:ncol(sce_tmp), 1000)]\n",
    "    \n",
    "    # This is absolutely key. Otherwise Cellchat does not WORK!\n",
    "    # KA note here - we have only one sample per condition - make a copy of the sample_label column \n",
    "    sce_tmp$sample_label_cp <- sce_tmp$sample_label\n",
    "    sce_tmp$sample_label_cp <- droplevels(sce_tmp$sample_label_cp)\n",
    "    # KA also do this for label column\n",
    "    sce_tmp$label_fine <- droplevels(sce_tmp$label_fine)\n",
    "\n",
    "    print(\"run_cellchat\"); flush.console()\n",
    "    run_cellchat(sce_tmp, sample_label_select, out_dir)\n",
    "}"
   ]
  },
  {
   "cell_type": "code",
   "execution_count": 12,
   "metadata": {},
   "outputs": [
    {
     "data": {
      "text/html": [
       "'/home/workspace/spatial_mouse_lung_outputs/downstream_analysis/distance/cellchat_distance'"
      ],
      "text/latex": [
       "'/home/workspace/spatial\\_mouse\\_lung\\_outputs/downstream\\_analysis/distance/cellchat\\_distance'"
      ],
      "text/markdown": [
       "'/home/workspace/spatial_mouse_lung_outputs/downstream_analysis/distance/cellchat_distance'"
      ],
      "text/plain": [
       "[1] \"/home/workspace/spatial_mouse_lung_outputs/downstream_analysis/distance/cellchat_distance\""
      ]
     },
     "metadata": {},
     "output_type": "display_data"
    }
   ],
   "source": [
    "cellchat_out_dir"
   ]
  },
  {
   "cell_type": "code",
   "execution_count": 14,
   "metadata": {
    "vscode": {
     "languageId": "r"
    }
   },
   "outputs": [],
   "source": [
    "cellchat_sample(sce, 'HDM_day3', cellchat_out_dir)\n",
    "cellchat_sample(sce, 'HDM_day30', cellchat_out_dir)\n"
   ]
  },
  {
   "cell_type": "code",
   "execution_count": 3,
   "metadata": {},
   "outputs": [],
   "source": [
    "CellChatDB <- CellChatDB.mouse # use CellChatDB.human if running on human data\n",
    "\n",
    "CellChatDB.use <- CellChatDB"
   ]
  },
  {
   "cell_type": "code",
   "execution_count": 6,
   "metadata": {
    "scrolled": true
   },
   "outputs": [
    {
     "data": {
      "text/html": [
       "<table class=\"dataframe\">\n",
       "<caption>A data.frame: 6 × 28</caption>\n",
       "<thead>\n",
       "\t<tr><th></th><th scope=col>interaction_name</th><th scope=col>pathway_name</th><th scope=col>ligand</th><th scope=col>receptor</th><th scope=col>agonist</th><th scope=col>antagonist</th><th scope=col>co_A_receptor</th><th scope=col>co_I_receptor</th><th scope=col>evidence</th><th scope=col>annotation</th><th scope=col>⋯</th><th scope=col>receptor.symbol</th><th scope=col>receptor.family</th><th scope=col>receptor.location</th><th scope=col>receptor.keyword</th><th scope=col>receptor.surfaceome_main</th><th scope=col>receptor.surfaceome_sub</th><th scope=col>receptor.adhesome</th><th scope=col>receptor.secreted_type</th><th scope=col>receptor.transmembrane</th><th scope=col>version</th></tr>\n",
       "\t<tr><th></th><th scope=col>&lt;chr&gt;</th><th scope=col>&lt;chr&gt;</th><th scope=col>&lt;chr&gt;</th><th scope=col>&lt;chr&gt;</th><th scope=col>&lt;chr&gt;</th><th scope=col>&lt;chr&gt;</th><th scope=col>&lt;chr&gt;</th><th scope=col>&lt;chr&gt;</th><th scope=col>&lt;chr&gt;</th><th scope=col>&lt;chr&gt;</th><th scope=col>⋯</th><th scope=col>&lt;chr&gt;</th><th scope=col>&lt;chr&gt;</th><th scope=col>&lt;chr&gt;</th><th scope=col>&lt;chr&gt;</th><th scope=col>&lt;chr&gt;</th><th scope=col>&lt;chr&gt;</th><th scope=col>&lt;chr&gt;</th><th scope=col>&lt;chr&gt;</th><th scope=col>&lt;lgl&gt;</th><th scope=col>&lt;chr&gt;</th></tr>\n",
       "</thead>\n",
       "<tbody>\n",
       "\t<tr><th scope=row>TGFB1_TGFBR1_TGFBR2</th><td>TGFB1_TGFBR1_TGFBR2</td><td>TGFb</td><td>Tgfb1</td><td>TGFbR1_R2    </td><td>TGFb agonist</td><td>TGFb antagonist</td><td></td><td>TGFb inhibition receptor</td><td>KEGG: mmu04350</td><td>Secreted Signaling</td><td>⋯</td><td>Tgfbr1, Tgfbr2</td><td>Protein kinase superfamily, TKL Ser/Thr protein kinase</td><td>Cell membrane, Secreted, Membrane raft, Cell surface, Cell junction, Tight junction</td><td>Membrane, Secreted, Disulfide bond, Kinase, Transmembrane, Differentiation, ATP-binding, Receptor, Alternative splicing, Aortic aneurysm, Transferase, Glycoprotein, Manganese, Disease variant, Growth regulation, Signal, Reference proteome, Metal-binding, Transmembrane helix, Hereditary nonpolyposis colorectal cancer, Cell membrane, Phosphoprotein, Direct protein sequencing, Apoptosis, Craniosynostosis, Serine/threonine-protein kinase, 3D-structure, Nucleotide-binding, Magnesium, Tight junction, Isopeptide bond, Cell junction, Ubl conjugation</td><td>Receptors</td><td>Act.TGFB;Kinase</td><td></td><td></td><td>TRUE</td><td>CellChatDB v1</td></tr>\n",
       "\t<tr><th scope=row>TGFB2_TGFBR1_TGFBR2</th><td>TGFB2_TGFBR1_TGFBR2</td><td>TGFb</td><td>Tgfb2</td><td>TGFbR1_R2    </td><td>TGFb agonist</td><td>TGFb antagonist</td><td></td><td>TGFb inhibition receptor</td><td>KEGG: mmu04350</td><td>Secreted Signaling</td><td>⋯</td><td>Tgfbr1, Tgfbr2</td><td>Protein kinase superfamily, TKL Ser/Thr protein kinase</td><td>Cell membrane, Secreted, Membrane raft, Cell surface, Cell junction, Tight junction</td><td>Membrane, Secreted, Disulfide bond, Kinase, Transmembrane, Differentiation, ATP-binding, Receptor, Alternative splicing, Aortic aneurysm, Transferase, Glycoprotein, Manganese, Disease variant, Growth regulation, Signal, Reference proteome, Metal-binding, Transmembrane helix, Hereditary nonpolyposis colorectal cancer, Cell membrane, Phosphoprotein, Direct protein sequencing, Apoptosis, Craniosynostosis, Serine/threonine-protein kinase, 3D-structure, Nucleotide-binding, Magnesium, Tight junction, Isopeptide bond, Cell junction, Ubl conjugation</td><td>Receptors</td><td>Act.TGFB;Kinase</td><td></td><td></td><td>TRUE</td><td>CellChatDB v1</td></tr>\n",
       "\t<tr><th scope=row>TGFB3_TGFBR1_TGFBR2</th><td>TGFB3_TGFBR1_TGFBR2</td><td>TGFb</td><td>Tgfb3</td><td>TGFbR1_R2    </td><td>TGFb agonist</td><td>TGFb antagonist</td><td></td><td>TGFb inhibition receptor</td><td>KEGG: mmu04350</td><td>Secreted Signaling</td><td>⋯</td><td>Tgfbr1, Tgfbr2</td><td>Protein kinase superfamily, TKL Ser/Thr protein kinase</td><td>Cell membrane, Secreted, Membrane raft, Cell surface, Cell junction, Tight junction</td><td>Membrane, Secreted, Disulfide bond, Kinase, Transmembrane, Differentiation, ATP-binding, Receptor, Alternative splicing, Aortic aneurysm, Transferase, Glycoprotein, Manganese, Disease variant, Growth regulation, Signal, Reference proteome, Metal-binding, Transmembrane helix, Hereditary nonpolyposis colorectal cancer, Cell membrane, Phosphoprotein, Direct protein sequencing, Apoptosis, Craniosynostosis, Serine/threonine-protein kinase, 3D-structure, Nucleotide-binding, Magnesium, Tight junction, Isopeptide bond, Cell junction, Ubl conjugation</td><td>Receptors</td><td>Act.TGFB;Kinase</td><td></td><td></td><td>TRUE</td><td>CellChatDB v1</td></tr>\n",
       "\t<tr><th scope=row>TGFB1_ACVR1B_TGFBR2</th><td>TGFB1_ACVR1B_TGFBR2</td><td>TGFb</td><td>Tgfb1</td><td>ACVR1B_TGFbR2</td><td>TGFb agonist</td><td>TGFb antagonist</td><td></td><td>TGFb inhibition receptor</td><td>PMID: 27449815</td><td>Secreted Signaling</td><td>⋯</td><td>Acvr1b, Tgfbr2</td><td>Protein kinase superfamily, TKL Ser/Thr protein kinase</td><td>Cell membrane, Secreted, Membrane raft                                             </td><td>Membrane, Secreted, Disulfide bond, Kinase, Transmembrane, Differentiation, ATP-binding, Receptor, Alternative splicing, Aortic aneurysm, Transferase, Glycoprotein, Manganese, Disease variant, Growth regulation, Signal, Reference proteome, Metal-binding, Transmembrane helix, Hereditary nonpolyposis colorectal cancer, Cell membrane, Phosphoprotein, Direct protein sequencing, Apoptosis, Craniosynostosis, Serine/threonine-protein kinase, 3D-structure, Nucleotide-binding, Magnesium, Ubl conjugation                                                </td><td>Receptors</td><td>Act.TGFB;Kinase</td><td></td><td></td><td>TRUE</td><td>CellChatDB v1</td></tr>\n",
       "\t<tr><th scope=row>TGFB1_ACVR1C_TGFBR2</th><td>TGFB1_ACVR1C_TGFBR2</td><td>TGFb</td><td>Tgfb1</td><td>ACVR1C_TGFbR2</td><td>TGFb agonist</td><td>TGFb antagonist</td><td></td><td>TGFb inhibition receptor</td><td>PMID: 27449815</td><td>Secreted Signaling</td><td>⋯</td><td>Acvr1c, Tgfbr2</td><td>Protein kinase superfamily, TKL Ser/Thr protein kinase</td><td>Cell membrane, Secreted, Membrane raft, Membrane                                   </td><td>Membrane, Secreted, Disulfide bond, Kinase, Transmembrane, Differentiation, ATP-binding, Receptor, Alternative splicing, Aortic aneurysm, Transferase, Glycoprotein, Manganese, Disease variant, Growth regulation, Signal, Reference proteome, Metal-binding, Transmembrane helix, Hereditary nonpolyposis colorectal cancer, Cell membrane, Phosphoprotein, Direct protein sequencing, Apoptosis, Craniosynostosis, Serine/threonine-protein kinase, 3D-structure, Nucleotide-binding, Magnesium                                                                 </td><td>Receptors</td><td>Act.TGFB;Kinase</td><td></td><td></td><td>TRUE</td><td>CellChatDB v1</td></tr>\n",
       "\t<tr><th scope=row>TGFB2_ACVR1B_TGFBR2</th><td>TGFB2_ACVR1B_TGFBR2</td><td>TGFb</td><td>Tgfb2</td><td>ACVR1B_TGFbR2</td><td>TGFb agonist</td><td>TGFb antagonist</td><td></td><td>TGFb inhibition receptor</td><td>PMID: 27449815</td><td>Secreted Signaling</td><td>⋯</td><td>Acvr1b, Tgfbr2</td><td>Protein kinase superfamily, TKL Ser/Thr protein kinase</td><td>Cell membrane, Secreted, Membrane raft                                             </td><td>Membrane, Secreted, Disulfide bond, Kinase, Transmembrane, Differentiation, ATP-binding, Receptor, Alternative splicing, Aortic aneurysm, Transferase, Glycoprotein, Manganese, Disease variant, Growth regulation, Signal, Reference proteome, Metal-binding, Transmembrane helix, Hereditary nonpolyposis colorectal cancer, Cell membrane, Phosphoprotein, Direct protein sequencing, Apoptosis, Craniosynostosis, Serine/threonine-protein kinase, 3D-structure, Nucleotide-binding, Magnesium, Ubl conjugation                                                </td><td>Receptors</td><td>Act.TGFB;Kinase</td><td></td><td></td><td>TRUE</td><td>CellChatDB v1</td></tr>\n",
       "</tbody>\n",
       "</table>\n"
      ],
      "text/latex": [
       "A data.frame: 6 × 28\n",
       "\\begin{tabular}{r|lllllllllllllllllllll}\n",
       "  & interaction\\_name & pathway\\_name & ligand & receptor & agonist & antagonist & co\\_A\\_receptor & co\\_I\\_receptor & evidence & annotation & ⋯ & receptor.symbol & receptor.family & receptor.location & receptor.keyword & receptor.surfaceome\\_main & receptor.surfaceome\\_sub & receptor.adhesome & receptor.secreted\\_type & receptor.transmembrane & version\\\\\n",
       "  & <chr> & <chr> & <chr> & <chr> & <chr> & <chr> & <chr> & <chr> & <chr> & <chr> & ⋯ & <chr> & <chr> & <chr> & <chr> & <chr> & <chr> & <chr> & <chr> & <lgl> & <chr>\\\\\n",
       "\\hline\n",
       "\tTGFB1\\_TGFBR1\\_TGFBR2 & TGFB1\\_TGFBR1\\_TGFBR2 & TGFb & Tgfb1 & TGFbR1\\_R2     & TGFb agonist & TGFb antagonist &  & TGFb inhibition receptor & KEGG: mmu04350 & Secreted Signaling & ⋯ & Tgfbr1, Tgfbr2 & Protein kinase superfamily, TKL Ser/Thr protein kinase & Cell membrane, Secreted, Membrane raft, Cell surface, Cell junction, Tight junction & Membrane, Secreted, Disulfide bond, Kinase, Transmembrane, Differentiation, ATP-binding, Receptor, Alternative splicing, Aortic aneurysm, Transferase, Glycoprotein, Manganese, Disease variant, Growth regulation, Signal, Reference proteome, Metal-binding, Transmembrane helix, Hereditary nonpolyposis colorectal cancer, Cell membrane, Phosphoprotein, Direct protein sequencing, Apoptosis, Craniosynostosis, Serine/threonine-protein kinase, 3D-structure, Nucleotide-binding, Magnesium, Tight junction, Isopeptide bond, Cell junction, Ubl conjugation & Receptors & Act.TGFB;Kinase &  &  & TRUE & CellChatDB v1\\\\\n",
       "\tTGFB2\\_TGFBR1\\_TGFBR2 & TGFB2\\_TGFBR1\\_TGFBR2 & TGFb & Tgfb2 & TGFbR1\\_R2     & TGFb agonist & TGFb antagonist &  & TGFb inhibition receptor & KEGG: mmu04350 & Secreted Signaling & ⋯ & Tgfbr1, Tgfbr2 & Protein kinase superfamily, TKL Ser/Thr protein kinase & Cell membrane, Secreted, Membrane raft, Cell surface, Cell junction, Tight junction & Membrane, Secreted, Disulfide bond, Kinase, Transmembrane, Differentiation, ATP-binding, Receptor, Alternative splicing, Aortic aneurysm, Transferase, Glycoprotein, Manganese, Disease variant, Growth regulation, Signal, Reference proteome, Metal-binding, Transmembrane helix, Hereditary nonpolyposis colorectal cancer, Cell membrane, Phosphoprotein, Direct protein sequencing, Apoptosis, Craniosynostosis, Serine/threonine-protein kinase, 3D-structure, Nucleotide-binding, Magnesium, Tight junction, Isopeptide bond, Cell junction, Ubl conjugation & Receptors & Act.TGFB;Kinase &  &  & TRUE & CellChatDB v1\\\\\n",
       "\tTGFB3\\_TGFBR1\\_TGFBR2 & TGFB3\\_TGFBR1\\_TGFBR2 & TGFb & Tgfb3 & TGFbR1\\_R2     & TGFb agonist & TGFb antagonist &  & TGFb inhibition receptor & KEGG: mmu04350 & Secreted Signaling & ⋯ & Tgfbr1, Tgfbr2 & Protein kinase superfamily, TKL Ser/Thr protein kinase & Cell membrane, Secreted, Membrane raft, Cell surface, Cell junction, Tight junction & Membrane, Secreted, Disulfide bond, Kinase, Transmembrane, Differentiation, ATP-binding, Receptor, Alternative splicing, Aortic aneurysm, Transferase, Glycoprotein, Manganese, Disease variant, Growth regulation, Signal, Reference proteome, Metal-binding, Transmembrane helix, Hereditary nonpolyposis colorectal cancer, Cell membrane, Phosphoprotein, Direct protein sequencing, Apoptosis, Craniosynostosis, Serine/threonine-protein kinase, 3D-structure, Nucleotide-binding, Magnesium, Tight junction, Isopeptide bond, Cell junction, Ubl conjugation & Receptors & Act.TGFB;Kinase &  &  & TRUE & CellChatDB v1\\\\\n",
       "\tTGFB1\\_ACVR1B\\_TGFBR2 & TGFB1\\_ACVR1B\\_TGFBR2 & TGFb & Tgfb1 & ACVR1B\\_TGFbR2 & TGFb agonist & TGFb antagonist &  & TGFb inhibition receptor & PMID: 27449815 & Secreted Signaling & ⋯ & Acvr1b, Tgfbr2 & Protein kinase superfamily, TKL Ser/Thr protein kinase & Cell membrane, Secreted, Membrane raft                                              & Membrane, Secreted, Disulfide bond, Kinase, Transmembrane, Differentiation, ATP-binding, Receptor, Alternative splicing, Aortic aneurysm, Transferase, Glycoprotein, Manganese, Disease variant, Growth regulation, Signal, Reference proteome, Metal-binding, Transmembrane helix, Hereditary nonpolyposis colorectal cancer, Cell membrane, Phosphoprotein, Direct protein sequencing, Apoptosis, Craniosynostosis, Serine/threonine-protein kinase, 3D-structure, Nucleotide-binding, Magnesium, Ubl conjugation                                                 & Receptors & Act.TGFB;Kinase &  &  & TRUE & CellChatDB v1\\\\\n",
       "\tTGFB1\\_ACVR1C\\_TGFBR2 & TGFB1\\_ACVR1C\\_TGFBR2 & TGFb & Tgfb1 & ACVR1C\\_TGFbR2 & TGFb agonist & TGFb antagonist &  & TGFb inhibition receptor & PMID: 27449815 & Secreted Signaling & ⋯ & Acvr1c, Tgfbr2 & Protein kinase superfamily, TKL Ser/Thr protein kinase & Cell membrane, Secreted, Membrane raft, Membrane                                    & Membrane, Secreted, Disulfide bond, Kinase, Transmembrane, Differentiation, ATP-binding, Receptor, Alternative splicing, Aortic aneurysm, Transferase, Glycoprotein, Manganese, Disease variant, Growth regulation, Signal, Reference proteome, Metal-binding, Transmembrane helix, Hereditary nonpolyposis colorectal cancer, Cell membrane, Phosphoprotein, Direct protein sequencing, Apoptosis, Craniosynostosis, Serine/threonine-protein kinase, 3D-structure, Nucleotide-binding, Magnesium                                                                  & Receptors & Act.TGFB;Kinase &  &  & TRUE & CellChatDB v1\\\\\n",
       "\tTGFB2\\_ACVR1B\\_TGFBR2 & TGFB2\\_ACVR1B\\_TGFBR2 & TGFb & Tgfb2 & ACVR1B\\_TGFbR2 & TGFb agonist & TGFb antagonist &  & TGFb inhibition receptor & PMID: 27449815 & Secreted Signaling & ⋯ & Acvr1b, Tgfbr2 & Protein kinase superfamily, TKL Ser/Thr protein kinase & Cell membrane, Secreted, Membrane raft                                              & Membrane, Secreted, Disulfide bond, Kinase, Transmembrane, Differentiation, ATP-binding, Receptor, Alternative splicing, Aortic aneurysm, Transferase, Glycoprotein, Manganese, Disease variant, Growth regulation, Signal, Reference proteome, Metal-binding, Transmembrane helix, Hereditary nonpolyposis colorectal cancer, Cell membrane, Phosphoprotein, Direct protein sequencing, Apoptosis, Craniosynostosis, Serine/threonine-protein kinase, 3D-structure, Nucleotide-binding, Magnesium, Ubl conjugation                                                 & Receptors & Act.TGFB;Kinase &  &  & TRUE & CellChatDB v1\\\\\n",
       "\\end{tabular}\n"
      ],
      "text/markdown": [
       "\n",
       "A data.frame: 6 × 28\n",
       "\n",
       "| <!--/--> | interaction_name &lt;chr&gt; | pathway_name &lt;chr&gt; | ligand &lt;chr&gt; | receptor &lt;chr&gt; | agonist &lt;chr&gt; | antagonist &lt;chr&gt; | co_A_receptor &lt;chr&gt; | co_I_receptor &lt;chr&gt; | evidence &lt;chr&gt; | annotation &lt;chr&gt; | ⋯ ⋯ | receptor.symbol &lt;chr&gt; | receptor.family &lt;chr&gt; | receptor.location &lt;chr&gt; | receptor.keyword &lt;chr&gt; | receptor.surfaceome_main &lt;chr&gt; | receptor.surfaceome_sub &lt;chr&gt; | receptor.adhesome &lt;chr&gt; | receptor.secreted_type &lt;chr&gt; | receptor.transmembrane &lt;lgl&gt; | version &lt;chr&gt; |\n",
       "|---|---|---|---|---|---|---|---|---|---|---|---|---|---|---|---|---|---|---|---|---|---|\n",
       "| TGFB1_TGFBR1_TGFBR2 | TGFB1_TGFBR1_TGFBR2 | TGFb | Tgfb1 | TGFbR1_R2     | TGFb agonist | TGFb antagonist | <!----> | TGFb inhibition receptor | KEGG: mmu04350 | Secreted Signaling | ⋯ | Tgfbr1, Tgfbr2 | Protein kinase superfamily, TKL Ser/Thr protein kinase | Cell membrane, Secreted, Membrane raft, Cell surface, Cell junction, Tight junction | Membrane, Secreted, Disulfide bond, Kinase, Transmembrane, Differentiation, ATP-binding, Receptor, Alternative splicing, Aortic aneurysm, Transferase, Glycoprotein, Manganese, Disease variant, Growth regulation, Signal, Reference proteome, Metal-binding, Transmembrane helix, Hereditary nonpolyposis colorectal cancer, Cell membrane, Phosphoprotein, Direct protein sequencing, Apoptosis, Craniosynostosis, Serine/threonine-protein kinase, 3D-structure, Nucleotide-binding, Magnesium, Tight junction, Isopeptide bond, Cell junction, Ubl conjugation | Receptors | Act.TGFB;Kinase | <!----> | <!----> | TRUE | CellChatDB v1 |\n",
       "| TGFB2_TGFBR1_TGFBR2 | TGFB2_TGFBR1_TGFBR2 | TGFb | Tgfb2 | TGFbR1_R2     | TGFb agonist | TGFb antagonist | <!----> | TGFb inhibition receptor | KEGG: mmu04350 | Secreted Signaling | ⋯ | Tgfbr1, Tgfbr2 | Protein kinase superfamily, TKL Ser/Thr protein kinase | Cell membrane, Secreted, Membrane raft, Cell surface, Cell junction, Tight junction | Membrane, Secreted, Disulfide bond, Kinase, Transmembrane, Differentiation, ATP-binding, Receptor, Alternative splicing, Aortic aneurysm, Transferase, Glycoprotein, Manganese, Disease variant, Growth regulation, Signal, Reference proteome, Metal-binding, Transmembrane helix, Hereditary nonpolyposis colorectal cancer, Cell membrane, Phosphoprotein, Direct protein sequencing, Apoptosis, Craniosynostosis, Serine/threonine-protein kinase, 3D-structure, Nucleotide-binding, Magnesium, Tight junction, Isopeptide bond, Cell junction, Ubl conjugation | Receptors | Act.TGFB;Kinase | <!----> | <!----> | TRUE | CellChatDB v1 |\n",
       "| TGFB3_TGFBR1_TGFBR2 | TGFB3_TGFBR1_TGFBR2 | TGFb | Tgfb3 | TGFbR1_R2     | TGFb agonist | TGFb antagonist | <!----> | TGFb inhibition receptor | KEGG: mmu04350 | Secreted Signaling | ⋯ | Tgfbr1, Tgfbr2 | Protein kinase superfamily, TKL Ser/Thr protein kinase | Cell membrane, Secreted, Membrane raft, Cell surface, Cell junction, Tight junction | Membrane, Secreted, Disulfide bond, Kinase, Transmembrane, Differentiation, ATP-binding, Receptor, Alternative splicing, Aortic aneurysm, Transferase, Glycoprotein, Manganese, Disease variant, Growth regulation, Signal, Reference proteome, Metal-binding, Transmembrane helix, Hereditary nonpolyposis colorectal cancer, Cell membrane, Phosphoprotein, Direct protein sequencing, Apoptosis, Craniosynostosis, Serine/threonine-protein kinase, 3D-structure, Nucleotide-binding, Magnesium, Tight junction, Isopeptide bond, Cell junction, Ubl conjugation | Receptors | Act.TGFB;Kinase | <!----> | <!----> | TRUE | CellChatDB v1 |\n",
       "| TGFB1_ACVR1B_TGFBR2 | TGFB1_ACVR1B_TGFBR2 | TGFb | Tgfb1 | ACVR1B_TGFbR2 | TGFb agonist | TGFb antagonist | <!----> | TGFb inhibition receptor | PMID: 27449815 | Secreted Signaling | ⋯ | Acvr1b, Tgfbr2 | Protein kinase superfamily, TKL Ser/Thr protein kinase | Cell membrane, Secreted, Membrane raft                                              | Membrane, Secreted, Disulfide bond, Kinase, Transmembrane, Differentiation, ATP-binding, Receptor, Alternative splicing, Aortic aneurysm, Transferase, Glycoprotein, Manganese, Disease variant, Growth regulation, Signal, Reference proteome, Metal-binding, Transmembrane helix, Hereditary nonpolyposis colorectal cancer, Cell membrane, Phosphoprotein, Direct protein sequencing, Apoptosis, Craniosynostosis, Serine/threonine-protein kinase, 3D-structure, Nucleotide-binding, Magnesium, Ubl conjugation                                                 | Receptors | Act.TGFB;Kinase | <!----> | <!----> | TRUE | CellChatDB v1 |\n",
       "| TGFB1_ACVR1C_TGFBR2 | TGFB1_ACVR1C_TGFBR2 | TGFb | Tgfb1 | ACVR1C_TGFbR2 | TGFb agonist | TGFb antagonist | <!----> | TGFb inhibition receptor | PMID: 27449815 | Secreted Signaling | ⋯ | Acvr1c, Tgfbr2 | Protein kinase superfamily, TKL Ser/Thr protein kinase | Cell membrane, Secreted, Membrane raft, Membrane                                    | Membrane, Secreted, Disulfide bond, Kinase, Transmembrane, Differentiation, ATP-binding, Receptor, Alternative splicing, Aortic aneurysm, Transferase, Glycoprotein, Manganese, Disease variant, Growth regulation, Signal, Reference proteome, Metal-binding, Transmembrane helix, Hereditary nonpolyposis colorectal cancer, Cell membrane, Phosphoprotein, Direct protein sequencing, Apoptosis, Craniosynostosis, Serine/threonine-protein kinase, 3D-structure, Nucleotide-binding, Magnesium                                                                  | Receptors | Act.TGFB;Kinase | <!----> | <!----> | TRUE | CellChatDB v1 |\n",
       "| TGFB2_ACVR1B_TGFBR2 | TGFB2_ACVR1B_TGFBR2 | TGFb | Tgfb2 | ACVR1B_TGFbR2 | TGFb agonist | TGFb antagonist | <!----> | TGFb inhibition receptor | PMID: 27449815 | Secreted Signaling | ⋯ | Acvr1b, Tgfbr2 | Protein kinase superfamily, TKL Ser/Thr protein kinase | Cell membrane, Secreted, Membrane raft                                              | Membrane, Secreted, Disulfide bond, Kinase, Transmembrane, Differentiation, ATP-binding, Receptor, Alternative splicing, Aortic aneurysm, Transferase, Glycoprotein, Manganese, Disease variant, Growth regulation, Signal, Reference proteome, Metal-binding, Transmembrane helix, Hereditary nonpolyposis colorectal cancer, Cell membrane, Phosphoprotein, Direct protein sequencing, Apoptosis, Craniosynostosis, Serine/threonine-protein kinase, 3D-structure, Nucleotide-binding, Magnesium, Ubl conjugation                                                 | Receptors | Act.TGFB;Kinase | <!----> | <!----> | TRUE | CellChatDB v1 |\n",
       "\n"
      ],
      "text/plain": [
       "                    interaction_name    pathway_name ligand receptor     \n",
       "TGFB1_TGFBR1_TGFBR2 TGFB1_TGFBR1_TGFBR2 TGFb         Tgfb1  TGFbR1_R2    \n",
       "TGFB2_TGFBR1_TGFBR2 TGFB2_TGFBR1_TGFBR2 TGFb         Tgfb2  TGFbR1_R2    \n",
       "TGFB3_TGFBR1_TGFBR2 TGFB3_TGFBR1_TGFBR2 TGFb         Tgfb3  TGFbR1_R2    \n",
       "TGFB1_ACVR1B_TGFBR2 TGFB1_ACVR1B_TGFBR2 TGFb         Tgfb1  ACVR1B_TGFbR2\n",
       "TGFB1_ACVR1C_TGFBR2 TGFB1_ACVR1C_TGFBR2 TGFb         Tgfb1  ACVR1C_TGFbR2\n",
       "TGFB2_ACVR1B_TGFBR2 TGFB2_ACVR1B_TGFBR2 TGFb         Tgfb2  ACVR1B_TGFbR2\n",
       "                    agonist      antagonist      co_A_receptor\n",
       "TGFB1_TGFBR1_TGFBR2 TGFb agonist TGFb antagonist              \n",
       "TGFB2_TGFBR1_TGFBR2 TGFb agonist TGFb antagonist              \n",
       "TGFB3_TGFBR1_TGFBR2 TGFb agonist TGFb antagonist              \n",
       "TGFB1_ACVR1B_TGFBR2 TGFb agonist TGFb antagonist              \n",
       "TGFB1_ACVR1C_TGFBR2 TGFb agonist TGFb antagonist              \n",
       "TGFB2_ACVR1B_TGFBR2 TGFb agonist TGFb antagonist              \n",
       "                    co_I_receptor            evidence       annotation        \n",
       "TGFB1_TGFBR1_TGFBR2 TGFb inhibition receptor KEGG: mmu04350 Secreted Signaling\n",
       "TGFB2_TGFBR1_TGFBR2 TGFb inhibition receptor KEGG: mmu04350 Secreted Signaling\n",
       "TGFB3_TGFBR1_TGFBR2 TGFb inhibition receptor KEGG: mmu04350 Secreted Signaling\n",
       "TGFB1_ACVR1B_TGFBR2 TGFb inhibition receptor PMID: 27449815 Secreted Signaling\n",
       "TGFB1_ACVR1C_TGFBR2 TGFb inhibition receptor PMID: 27449815 Secreted Signaling\n",
       "TGFB2_ACVR1B_TGFBR2 TGFb inhibition receptor PMID: 27449815 Secreted Signaling\n",
       "                    ⋯ receptor.symbol\n",
       "TGFB1_TGFBR1_TGFBR2 ⋯ Tgfbr1, Tgfbr2 \n",
       "TGFB2_TGFBR1_TGFBR2 ⋯ Tgfbr1, Tgfbr2 \n",
       "TGFB3_TGFBR1_TGFBR2 ⋯ Tgfbr1, Tgfbr2 \n",
       "TGFB1_ACVR1B_TGFBR2 ⋯ Acvr1b, Tgfbr2 \n",
       "TGFB1_ACVR1C_TGFBR2 ⋯ Acvr1c, Tgfbr2 \n",
       "TGFB2_ACVR1B_TGFBR2 ⋯ Acvr1b, Tgfbr2 \n",
       "                    receptor.family                                       \n",
       "TGFB1_TGFBR1_TGFBR2 Protein kinase superfamily, TKL Ser/Thr protein kinase\n",
       "TGFB2_TGFBR1_TGFBR2 Protein kinase superfamily, TKL Ser/Thr protein kinase\n",
       "TGFB3_TGFBR1_TGFBR2 Protein kinase superfamily, TKL Ser/Thr protein kinase\n",
       "TGFB1_ACVR1B_TGFBR2 Protein kinase superfamily, TKL Ser/Thr protein kinase\n",
       "TGFB1_ACVR1C_TGFBR2 Protein kinase superfamily, TKL Ser/Thr protein kinase\n",
       "TGFB2_ACVR1B_TGFBR2 Protein kinase superfamily, TKL Ser/Thr protein kinase\n",
       "                    receptor.location                                                                  \n",
       "TGFB1_TGFBR1_TGFBR2 Cell membrane, Secreted, Membrane raft, Cell surface, Cell junction, Tight junction\n",
       "TGFB2_TGFBR1_TGFBR2 Cell membrane, Secreted, Membrane raft, Cell surface, Cell junction, Tight junction\n",
       "TGFB3_TGFBR1_TGFBR2 Cell membrane, Secreted, Membrane raft, Cell surface, Cell junction, Tight junction\n",
       "TGFB1_ACVR1B_TGFBR2 Cell membrane, Secreted, Membrane raft                                             \n",
       "TGFB1_ACVR1C_TGFBR2 Cell membrane, Secreted, Membrane raft, Membrane                                   \n",
       "TGFB2_ACVR1B_TGFBR2 Cell membrane, Secreted, Membrane raft                                             \n",
       "                    receptor.keyword                                                                                                                                                                                                                                                                                                                                                                                                                                                                                                                                                   \n",
       "TGFB1_TGFBR1_TGFBR2 Membrane, Secreted, Disulfide bond, Kinase, Transmembrane, Differentiation, ATP-binding, Receptor, Alternative splicing, Aortic aneurysm, Transferase, Glycoprotein, Manganese, Disease variant, Growth regulation, Signal, Reference proteome, Metal-binding, Transmembrane helix, Hereditary nonpolyposis colorectal cancer, Cell membrane, Phosphoprotein, Direct protein sequencing, Apoptosis, Craniosynostosis, Serine/threonine-protein kinase, 3D-structure, Nucleotide-binding, Magnesium, Tight junction, Isopeptide bond, Cell junction, Ubl conjugation\n",
       "TGFB2_TGFBR1_TGFBR2 Membrane, Secreted, Disulfide bond, Kinase, Transmembrane, Differentiation, ATP-binding, Receptor, Alternative splicing, Aortic aneurysm, Transferase, Glycoprotein, Manganese, Disease variant, Growth regulation, Signal, Reference proteome, Metal-binding, Transmembrane helix, Hereditary nonpolyposis colorectal cancer, Cell membrane, Phosphoprotein, Direct protein sequencing, Apoptosis, Craniosynostosis, Serine/threonine-protein kinase, 3D-structure, Nucleotide-binding, Magnesium, Tight junction, Isopeptide bond, Cell junction, Ubl conjugation\n",
       "TGFB3_TGFBR1_TGFBR2 Membrane, Secreted, Disulfide bond, Kinase, Transmembrane, Differentiation, ATP-binding, Receptor, Alternative splicing, Aortic aneurysm, Transferase, Glycoprotein, Manganese, Disease variant, Growth regulation, Signal, Reference proteome, Metal-binding, Transmembrane helix, Hereditary nonpolyposis colorectal cancer, Cell membrane, Phosphoprotein, Direct protein sequencing, Apoptosis, Craniosynostosis, Serine/threonine-protein kinase, 3D-structure, Nucleotide-binding, Magnesium, Tight junction, Isopeptide bond, Cell junction, Ubl conjugation\n",
       "TGFB1_ACVR1B_TGFBR2 Membrane, Secreted, Disulfide bond, Kinase, Transmembrane, Differentiation, ATP-binding, Receptor, Alternative splicing, Aortic aneurysm, Transferase, Glycoprotein, Manganese, Disease variant, Growth regulation, Signal, Reference proteome, Metal-binding, Transmembrane helix, Hereditary nonpolyposis colorectal cancer, Cell membrane, Phosphoprotein, Direct protein sequencing, Apoptosis, Craniosynostosis, Serine/threonine-protein kinase, 3D-structure, Nucleotide-binding, Magnesium, Ubl conjugation                                                \n",
       "TGFB1_ACVR1C_TGFBR2 Membrane, Secreted, Disulfide bond, Kinase, Transmembrane, Differentiation, ATP-binding, Receptor, Alternative splicing, Aortic aneurysm, Transferase, Glycoprotein, Manganese, Disease variant, Growth regulation, Signal, Reference proteome, Metal-binding, Transmembrane helix, Hereditary nonpolyposis colorectal cancer, Cell membrane, Phosphoprotein, Direct protein sequencing, Apoptosis, Craniosynostosis, Serine/threonine-protein kinase, 3D-structure, Nucleotide-binding, Magnesium                                                                 \n",
       "TGFB2_ACVR1B_TGFBR2 Membrane, Secreted, Disulfide bond, Kinase, Transmembrane, Differentiation, ATP-binding, Receptor, Alternative splicing, Aortic aneurysm, Transferase, Glycoprotein, Manganese, Disease variant, Growth regulation, Signal, Reference proteome, Metal-binding, Transmembrane helix, Hereditary nonpolyposis colorectal cancer, Cell membrane, Phosphoprotein, Direct protein sequencing, Apoptosis, Craniosynostosis, Serine/threonine-protein kinase, 3D-structure, Nucleotide-binding, Magnesium, Ubl conjugation                                                \n",
       "                    receptor.surfaceome_main receptor.surfaceome_sub\n",
       "TGFB1_TGFBR1_TGFBR2 Receptors                Act.TGFB;Kinase        \n",
       "TGFB2_TGFBR1_TGFBR2 Receptors                Act.TGFB;Kinase        \n",
       "TGFB3_TGFBR1_TGFBR2 Receptors                Act.TGFB;Kinase        \n",
       "TGFB1_ACVR1B_TGFBR2 Receptors                Act.TGFB;Kinase        \n",
       "TGFB1_ACVR1C_TGFBR2 Receptors                Act.TGFB;Kinase        \n",
       "TGFB2_ACVR1B_TGFBR2 Receptors                Act.TGFB;Kinase        \n",
       "                    receptor.adhesome receptor.secreted_type\n",
       "TGFB1_TGFBR1_TGFBR2                                         \n",
       "TGFB2_TGFBR1_TGFBR2                                         \n",
       "TGFB3_TGFBR1_TGFBR2                                         \n",
       "TGFB1_ACVR1B_TGFBR2                                         \n",
       "TGFB1_ACVR1C_TGFBR2                                         \n",
       "TGFB2_ACVR1B_TGFBR2                                         \n",
       "                    receptor.transmembrane version      \n",
       "TGFB1_TGFBR1_TGFBR2 TRUE                   CellChatDB v1\n",
       "TGFB2_TGFBR1_TGFBR2 TRUE                   CellChatDB v1\n",
       "TGFB3_TGFBR1_TGFBR2 TRUE                   CellChatDB v1\n",
       "TGFB1_ACVR1B_TGFBR2 TRUE                   CellChatDB v1\n",
       "TGFB1_ACVR1C_TGFBR2 TRUE                   CellChatDB v1\n",
       "TGFB2_ACVR1B_TGFBR2 TRUE                   CellChatDB v1"
      ]
     },
     "metadata": {},
     "output_type": "display_data"
    }
   ],
   "source": [
    "head(CellChatDB.use$interaction)"
   ]
  },
  {
   "cell_type": "code",
   "execution_count": 18,
   "metadata": {},
   "outputs": [
    {
     "data": {
      "text/html": [
       "<table class=\"dataframe\">\n",
       "<caption>A data.frame: 1 × 28</caption>\n",
       "<thead>\n",
       "\t<tr><th></th><th scope=col>interaction_name</th><th scope=col>pathway_name</th><th scope=col>ligand</th><th scope=col>receptor</th><th scope=col>agonist</th><th scope=col>antagonist</th><th scope=col>co_A_receptor</th><th scope=col>co_I_receptor</th><th scope=col>evidence</th><th scope=col>annotation</th><th scope=col>⋯</th><th scope=col>receptor.symbol</th><th scope=col>receptor.family</th><th scope=col>receptor.location</th><th scope=col>receptor.keyword</th><th scope=col>receptor.surfaceome_main</th><th scope=col>receptor.surfaceome_sub</th><th scope=col>receptor.adhesome</th><th scope=col>receptor.secreted_type</th><th scope=col>receptor.transmembrane</th><th scope=col>version</th></tr>\n",
       "\t<tr><th></th><th scope=col>&lt;chr&gt;</th><th scope=col>&lt;chr&gt;</th><th scope=col>&lt;chr&gt;</th><th scope=col>&lt;chr&gt;</th><th scope=col>&lt;chr&gt;</th><th scope=col>&lt;chr&gt;</th><th scope=col>&lt;chr&gt;</th><th scope=col>&lt;chr&gt;</th><th scope=col>&lt;chr&gt;</th><th scope=col>&lt;chr&gt;</th><th scope=col>⋯</th><th scope=col>&lt;chr&gt;</th><th scope=col>&lt;chr&gt;</th><th scope=col>&lt;chr&gt;</th><th scope=col>&lt;chr&gt;</th><th scope=col>&lt;chr&gt;</th><th scope=col>&lt;chr&gt;</th><th scope=col>&lt;chr&gt;</th><th scope=col>&lt;chr&gt;</th><th scope=col>&lt;lgl&gt;</th><th scope=col>&lt;chr&gt;</th></tr>\n",
       "</thead>\n",
       "<tbody>\n",
       "\t<tr><th scope=row>PDCD1LG2_PDCD1</th><td>PDCD1LG2_PDCD1</td><td>PDL2</td><td>Pdcd1lg2</td><td>Pdcd1</td><td></td><td></td><td></td><td></td><td>PMID: 23954143</td><td>Cell-Cell Contact</td><td>⋯</td><td>Pdcd1</td><td></td><td>Cell membrane</td><td>Systemic lupus erythematosus, Immunity, Membrane, Disulfide bond, Transmembrane, Adaptive immunity, Glycoprotein, Signal, Reference proteome, Immunoglobulin domain, Cell membrane, Transmembrane helix, Phosphoprotein, Apoptosis, Isopeptide bond, 3D-structure, Ubl conjugation</td><td>Unclassified</td><td>Unclassified</td><td></td><td></td><td>TRUE</td><td>CellChatDB v1</td></tr>\n",
       "</tbody>\n",
       "</table>\n"
      ],
      "text/latex": [
       "A data.frame: 1 × 28\n",
       "\\begin{tabular}{r|lllllllllllllllllllll}\n",
       "  & interaction\\_name & pathway\\_name & ligand & receptor & agonist & antagonist & co\\_A\\_receptor & co\\_I\\_receptor & evidence & annotation & ⋯ & receptor.symbol & receptor.family & receptor.location & receptor.keyword & receptor.surfaceome\\_main & receptor.surfaceome\\_sub & receptor.adhesome & receptor.secreted\\_type & receptor.transmembrane & version\\\\\n",
       "  & <chr> & <chr> & <chr> & <chr> & <chr> & <chr> & <chr> & <chr> & <chr> & <chr> & ⋯ & <chr> & <chr> & <chr> & <chr> & <chr> & <chr> & <chr> & <chr> & <lgl> & <chr>\\\\\n",
       "\\hline\n",
       "\tPDCD1LG2\\_PDCD1 & PDCD1LG2\\_PDCD1 & PDL2 & Pdcd1lg2 & Pdcd1 &  &  &  &  & PMID: 23954143 & Cell-Cell Contact & ⋯ & Pdcd1 &  & Cell membrane & Systemic lupus erythematosus, Immunity, Membrane, Disulfide bond, Transmembrane, Adaptive immunity, Glycoprotein, Signal, Reference proteome, Immunoglobulin domain, Cell membrane, Transmembrane helix, Phosphoprotein, Apoptosis, Isopeptide bond, 3D-structure, Ubl conjugation & Unclassified & Unclassified &  &  & TRUE & CellChatDB v1\\\\\n",
       "\\end{tabular}\n"
      ],
      "text/markdown": [
       "\n",
       "A data.frame: 1 × 28\n",
       "\n",
       "| <!--/--> | interaction_name &lt;chr&gt; | pathway_name &lt;chr&gt; | ligand &lt;chr&gt; | receptor &lt;chr&gt; | agonist &lt;chr&gt; | antagonist &lt;chr&gt; | co_A_receptor &lt;chr&gt; | co_I_receptor &lt;chr&gt; | evidence &lt;chr&gt; | annotation &lt;chr&gt; | ⋯ ⋯ | receptor.symbol &lt;chr&gt; | receptor.family &lt;chr&gt; | receptor.location &lt;chr&gt; | receptor.keyword &lt;chr&gt; | receptor.surfaceome_main &lt;chr&gt; | receptor.surfaceome_sub &lt;chr&gt; | receptor.adhesome &lt;chr&gt; | receptor.secreted_type &lt;chr&gt; | receptor.transmembrane &lt;lgl&gt; | version &lt;chr&gt; |\n",
       "|---|---|---|---|---|---|---|---|---|---|---|---|---|---|---|---|---|---|---|---|---|---|\n",
       "| PDCD1LG2_PDCD1 | PDCD1LG2_PDCD1 | PDL2 | Pdcd1lg2 | Pdcd1 | <!----> | <!----> | <!----> | <!----> | PMID: 23954143 | Cell-Cell Contact | ⋯ | Pdcd1 | <!----> | Cell membrane | Systemic lupus erythematosus, Immunity, Membrane, Disulfide bond, Transmembrane, Adaptive immunity, Glycoprotein, Signal, Reference proteome, Immunoglobulin domain, Cell membrane, Transmembrane helix, Phosphoprotein, Apoptosis, Isopeptide bond, 3D-structure, Ubl conjugation | Unclassified | Unclassified | <!----> | <!----> | TRUE | CellChatDB v1 |\n",
       "\n"
      ],
      "text/plain": [
       "               interaction_name pathway_name ligand   receptor agonist\n",
       "PDCD1LG2_PDCD1 PDCD1LG2_PDCD1   PDL2         Pdcd1lg2 Pdcd1           \n",
       "               antagonist co_A_receptor co_I_receptor evidence      \n",
       "PDCD1LG2_PDCD1                                        PMID: 23954143\n",
       "               annotation        ⋯ receptor.symbol receptor.family\n",
       "PDCD1LG2_PDCD1 Cell-Cell Contact ⋯ Pdcd1                          \n",
       "               receptor.location\n",
       "PDCD1LG2_PDCD1 Cell membrane    \n",
       "               receptor.keyword                                                                                                                                                                                                                                                                  \n",
       "PDCD1LG2_PDCD1 Systemic lupus erythematosus, Immunity, Membrane, Disulfide bond, Transmembrane, Adaptive immunity, Glycoprotein, Signal, Reference proteome, Immunoglobulin domain, Cell membrane, Transmembrane helix, Phosphoprotein, Apoptosis, Isopeptide bond, 3D-structure, Ubl conjugation\n",
       "               receptor.surfaceome_main receptor.surfaceome_sub\n",
       "PDCD1LG2_PDCD1 Unclassified             Unclassified           \n",
       "               receptor.adhesome receptor.secreted_type receptor.transmembrane\n",
       "PDCD1LG2_PDCD1                                          TRUE                  \n",
       "               version      \n",
       "PDCD1LG2_PDCD1 CellChatDB v1"
      ]
     },
     "metadata": {},
     "output_type": "display_data"
    }
   ],
   "source": [
    "filt <- CellChatDB.use$interaction %>%\n",
    "  # filter(ligand == \"Cd40\" | receptor == \"Cd40\")\n",
    "# filter(ligand == \"Tgfb1\" | receptor == \"Tgfb1\")\n",
    "# filter(ligand == \"Pdcd1lg1\")\n",
    "# filter(ligand == \"Flt3l\")\n",
    "filter(ligand == \"Cd274\")\n",
    "# filter(pathway_name == \"PDL2\")\n",
    "filt"
   ]
  },
  {
   "cell_type": "code",
   "execution_count": 43,
   "metadata": {},
   "outputs": [
    {
     "data": {
      "text/html": [
       "<table class=\"dataframe\">\n",
       "<caption>A data.frame: 1 × 28</caption>\n",
       "<thead>\n",
       "\t<tr><th></th><th scope=col>interaction_name</th><th scope=col>pathway_name</th><th scope=col>ligand</th><th scope=col>receptor</th><th scope=col>agonist</th><th scope=col>antagonist</th><th scope=col>co_A_receptor</th><th scope=col>co_I_receptor</th><th scope=col>evidence</th><th scope=col>annotation</th><th scope=col>⋯</th><th scope=col>receptor.symbol</th><th scope=col>receptor.family</th><th scope=col>receptor.location</th><th scope=col>receptor.keyword</th><th scope=col>receptor.surfaceome_main</th><th scope=col>receptor.surfaceome_sub</th><th scope=col>receptor.adhesome</th><th scope=col>receptor.secreted_type</th><th scope=col>receptor.transmembrane</th><th scope=col>version</th></tr>\n",
       "\t<tr><th></th><th scope=col>&lt;chr&gt;</th><th scope=col>&lt;chr&gt;</th><th scope=col>&lt;chr&gt;</th><th scope=col>&lt;chr&gt;</th><th scope=col>&lt;chr&gt;</th><th scope=col>&lt;chr&gt;</th><th scope=col>&lt;chr&gt;</th><th scope=col>&lt;chr&gt;</th><th scope=col>&lt;chr&gt;</th><th scope=col>&lt;chr&gt;</th><th scope=col>⋯</th><th scope=col>&lt;chr&gt;</th><th scope=col>&lt;chr&gt;</th><th scope=col>&lt;chr&gt;</th><th scope=col>&lt;chr&gt;</th><th scope=col>&lt;chr&gt;</th><th scope=col>&lt;chr&gt;</th><th scope=col>&lt;chr&gt;</th><th scope=col>&lt;chr&gt;</th><th scope=col>&lt;lgl&gt;</th><th scope=col>&lt;chr&gt;</th></tr>\n",
       "</thead>\n",
       "<tbody>\n",
       "\t<tr><th scope=row>IL33_IL1RL1_IL1RAP</th><td>IL33_IL1RL1_IL1RAP</td><td>IL1</td><td>Il33</td><td>IL1RL1_IL1RAP</td><td></td><td></td><td></td><td></td><td>KEGG: mmu04060</td><td>Secreted Signaling</td><td>⋯</td><td>Il1rl1, Il1rap</td><td>Interleukin-1 receptor</td><td>Cell membrane, Secreted</td><td>Immunity, Membrane, Secreted, Disulfide bond, Transmembrane, Receptor, Alternative splicing, Glycoprotein, Hydrolase, Reference proteome, Signal, Immunoglobulin domain, Cell membrane, Innate immunity, Transmembrane helix, Phosphoprotein, 3D-structure, NAD, Inflammatory response, Repeat, Direct protein sequencing</td><td>Receptors</td><td>CytokineR;IG;Type1</td><td></td><td>cytokine</td><td>TRUE</td><td>CellChatDB v1</td></tr>\n",
       "</tbody>\n",
       "</table>\n"
      ],
      "text/latex": [
       "A data.frame: 1 × 28\n",
       "\\begin{tabular}{r|lllllllllllllllllllll}\n",
       "  & interaction\\_name & pathway\\_name & ligand & receptor & agonist & antagonist & co\\_A\\_receptor & co\\_I\\_receptor & evidence & annotation & ⋯ & receptor.symbol & receptor.family & receptor.location & receptor.keyword & receptor.surfaceome\\_main & receptor.surfaceome\\_sub & receptor.adhesome & receptor.secreted\\_type & receptor.transmembrane & version\\\\\n",
       "  & <chr> & <chr> & <chr> & <chr> & <chr> & <chr> & <chr> & <chr> & <chr> & <chr> & ⋯ & <chr> & <chr> & <chr> & <chr> & <chr> & <chr> & <chr> & <chr> & <lgl> & <chr>\\\\\n",
       "\\hline\n",
       "\tIL33\\_IL1RL1\\_IL1RAP & IL33\\_IL1RL1\\_IL1RAP & IL1 & Il33 & IL1RL1\\_IL1RAP &  &  &  &  & KEGG: mmu04060 & Secreted Signaling & ⋯ & Il1rl1, Il1rap & Interleukin-1 receptor & Cell membrane, Secreted & Immunity, Membrane, Secreted, Disulfide bond, Transmembrane, Receptor, Alternative splicing, Glycoprotein, Hydrolase, Reference proteome, Signal, Immunoglobulin domain, Cell membrane, Innate immunity, Transmembrane helix, Phosphoprotein, 3D-structure, NAD, Inflammatory response, Repeat, Direct protein sequencing & Receptors & CytokineR;IG;Type1 &  & cytokine & TRUE & CellChatDB v1\\\\\n",
       "\\end{tabular}\n"
      ],
      "text/markdown": [
       "\n",
       "A data.frame: 1 × 28\n",
       "\n",
       "| <!--/--> | interaction_name &lt;chr&gt; | pathway_name &lt;chr&gt; | ligand &lt;chr&gt; | receptor &lt;chr&gt; | agonist &lt;chr&gt; | antagonist &lt;chr&gt; | co_A_receptor &lt;chr&gt; | co_I_receptor &lt;chr&gt; | evidence &lt;chr&gt; | annotation &lt;chr&gt; | ⋯ ⋯ | receptor.symbol &lt;chr&gt; | receptor.family &lt;chr&gt; | receptor.location &lt;chr&gt; | receptor.keyword &lt;chr&gt; | receptor.surfaceome_main &lt;chr&gt; | receptor.surfaceome_sub &lt;chr&gt; | receptor.adhesome &lt;chr&gt; | receptor.secreted_type &lt;chr&gt; | receptor.transmembrane &lt;lgl&gt; | version &lt;chr&gt; |\n",
       "|---|---|---|---|---|---|---|---|---|---|---|---|---|---|---|---|---|---|---|---|---|---|\n",
       "| IL33_IL1RL1_IL1RAP | IL33_IL1RL1_IL1RAP | IL1 | Il33 | IL1RL1_IL1RAP | <!----> | <!----> | <!----> | <!----> | KEGG: mmu04060 | Secreted Signaling | ⋯ | Il1rl1, Il1rap | Interleukin-1 receptor | Cell membrane, Secreted | Immunity, Membrane, Secreted, Disulfide bond, Transmembrane, Receptor, Alternative splicing, Glycoprotein, Hydrolase, Reference proteome, Signal, Immunoglobulin domain, Cell membrane, Innate immunity, Transmembrane helix, Phosphoprotein, 3D-structure, NAD, Inflammatory response, Repeat, Direct protein sequencing | Receptors | CytokineR;IG;Type1 | <!----> | cytokine | TRUE | CellChatDB v1 |\n",
       "\n"
      ],
      "text/plain": [
       "                   interaction_name   pathway_name ligand receptor      agonist\n",
       "IL33_IL1RL1_IL1RAP IL33_IL1RL1_IL1RAP IL1          Il33   IL1RL1_IL1RAP        \n",
       "                   antagonist co_A_receptor co_I_receptor evidence      \n",
       "IL33_IL1RL1_IL1RAP                                        KEGG: mmu04060\n",
       "                   annotation         ⋯ receptor.symbol receptor.family       \n",
       "IL33_IL1RL1_IL1RAP Secreted Signaling ⋯ Il1rl1, Il1rap  Interleukin-1 receptor\n",
       "                   receptor.location      \n",
       "IL33_IL1RL1_IL1RAP Cell membrane, Secreted\n",
       "                   receptor.keyword                                                                                                                                                                                                                                                                                                         \n",
       "IL33_IL1RL1_IL1RAP Immunity, Membrane, Secreted, Disulfide bond, Transmembrane, Receptor, Alternative splicing, Glycoprotein, Hydrolase, Reference proteome, Signal, Immunoglobulin domain, Cell membrane, Innate immunity, Transmembrane helix, Phosphoprotein, 3D-structure, NAD, Inflammatory response, Repeat, Direct protein sequencing\n",
       "                   receptor.surfaceome_main receptor.surfaceome_sub\n",
       "IL33_IL1RL1_IL1RAP Receptors                CytokineR;IG;Type1     \n",
       "                   receptor.adhesome receptor.secreted_type\n",
       "IL33_IL1RL1_IL1RAP                   cytokine              \n",
       "                   receptor.transmembrane version      \n",
       "IL33_IL1RL1_IL1RAP TRUE                   CellChatDB v1"
      ]
     },
     "metadata": {},
     "output_type": "display_data"
    }
   ],
   "source": [
    "CellChatDB.mouse$interaction %>%\n",
    "  filter(ligand == \"Il33\" | receptor == \"Il33\")"
   ]
  },
  {
   "cell_type": "code",
   "execution_count": null,
   "metadata": {},
   "outputs": [],
   "source": []
  }
 ],
 "metadata": {
  "kernelspec": {
   "display_name": "r_cellchat",
   "language": "R",
   "name": "r_cellchat"
  },
  "language_info": {
   "codemirror_mode": "r",
   "file_extension": ".r",
   "mimetype": "text/x-r-source",
   "name": "R",
   "pygments_lexer": "r",
   "version": "4.4.3"
  }
 },
 "nbformat": 4,
 "nbformat_minor": 4
}
