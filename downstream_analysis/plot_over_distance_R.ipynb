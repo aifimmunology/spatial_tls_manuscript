{
 "cells": [
  {
   "cell_type": "code",
   "execution_count": 1,
   "id": "d2289eb1-4e11-44a2-82aa-81cf1f84e172",
   "metadata": {
    "scrolled": true
   },
   "outputs": [
    {
     "name": "stderr",
     "output_type": "stream",
     "text": [
      "Registered S3 method overwritten by 'zellkonverter':\n",
      "  method                                             from      \n",
      "  py_to_r.pandas.core.arrays.categorical.Categorical reticulate\n",
      "\n",
      "Loading required package: SummarizedExperiment\n",
      "\n",
      "Loading required package: MatrixGenerics\n",
      "\n",
      "Loading required package: matrixStats\n",
      "\n",
      "\n",
      "Attaching package: ‘MatrixGenerics’\n",
      "\n",
      "\n",
      "The following objects are masked from ‘package:matrixStats’:\n",
      "\n",
      "    colAlls, colAnyNAs, colAnys, colAvgsPerRowSet, colCollapse,\n",
      "    colCounts, colCummaxs, colCummins, colCumprods, colCumsums,\n",
      "    colDiffs, colIQRDiffs, colIQRs, colLogSumExps, colMadDiffs,\n",
      "    colMads, colMaxs, colMeans2, colMedians, colMins, colOrderStats,\n",
      "    colProds, colQuantiles, colRanges, colRanks, colSdDiffs, colSds,\n",
      "    colSums2, colTabulates, colVarDiffs, colVars, colWeightedMads,\n",
      "    colWeightedMeans, colWeightedMedians, colWeightedSds,\n",
      "    colWeightedVars, rowAlls, rowAnyNAs, rowAnys, rowAvgsPerColSet,\n",
      "    rowCollapse, rowCounts, rowCummaxs, rowCummins, rowCumprods,\n",
      "    rowCumsums, rowDiffs, rowIQRDiffs, rowIQRs, rowLogSumExps,\n",
      "    rowMadDiffs, rowMads, rowMaxs, rowMeans2, rowMedians, rowMins,\n",
      "    rowOrderStats, rowProds, rowQuantiles, rowRanges, rowRanks,\n",
      "    rowSdDiffs, rowSds, rowSums2, rowTabulates, rowVarDiffs, rowVars,\n",
      "    rowWeightedMads, rowWeightedMeans, rowWeightedMedians,\n",
      "    rowWeightedSds, rowWeightedVars\n",
      "\n",
      "\n",
      "Loading required package: GenomicRanges\n",
      "\n",
      "Loading required package: stats4\n",
      "\n",
      "Loading required package: BiocGenerics\n",
      "\n",
      "\n",
      "Attaching package: ‘BiocGenerics’\n",
      "\n",
      "\n",
      "The following objects are masked from ‘package:stats’:\n",
      "\n",
      "    IQR, mad, sd, var, xtabs\n",
      "\n",
      "\n",
      "The following objects are masked from ‘package:base’:\n",
      "\n",
      "    Filter, Find, Map, Position, Reduce, anyDuplicated, aperm, append,\n",
      "    as.data.frame, basename, cbind, colnames, dirname, do.call,\n",
      "    duplicated, eval, evalq, get, grep, grepl, intersect, is.unsorted,\n",
      "    lapply, mapply, match, mget, order, paste, pmax, pmax.int, pmin,\n",
      "    pmin.int, rank, rbind, rownames, sapply, saveRDS, setdiff, table,\n",
      "    tapply, union, unique, unsplit, which.max, which.min\n",
      "\n",
      "\n",
      "Loading required package: S4Vectors\n",
      "\n",
      "\n",
      "Attaching package: ‘S4Vectors’\n",
      "\n",
      "\n",
      "The following object is masked from ‘package:utils’:\n",
      "\n",
      "    findMatches\n",
      "\n",
      "\n",
      "The following objects are masked from ‘package:base’:\n",
      "\n",
      "    I, expand.grid, unname\n",
      "\n",
      "\n",
      "Loading required package: IRanges\n",
      "\n",
      "Loading required package: GenomeInfoDb\n",
      "\n",
      "Loading required package: Biobase\n",
      "\n",
      "Welcome to Bioconductor\n",
      "\n",
      "    Vignettes contain introductory material; view with\n",
      "    'browseVignettes()'. To cite Bioconductor, see\n",
      "    'citation(\"Biobase\")', and for packages 'citation(\"pkgname\")'.\n",
      "\n",
      "\n",
      "\n",
      "Attaching package: ‘Biobase’\n",
      "\n",
      "\n",
      "The following object is masked from ‘package:MatrixGenerics’:\n",
      "\n",
      "    rowMedians\n",
      "\n",
      "\n",
      "The following objects are masked from ‘package:matrixStats’:\n",
      "\n",
      "    anyMissing, rowMedians\n",
      "\n",
      "\n"
     ]
    }
   ],
   "source": [
    "library(zellkonverter)\n",
    "library(SingleCellExperiment)"
   ]
  },
  {
   "cell_type": "code",
   "execution_count": 2,
   "id": "66d32ccf-f5b6-4410-ac8b-9d680c722d40",
   "metadata": {},
   "outputs": [],
   "source": [
    "library(ggplot2)\n",
    "library(RColorBrewer)"
   ]
  },
  {
   "cell_type": "code",
   "execution_count": 3,
   "id": "d1ce5367-2976-49fd-9e03-5696d828c5b7",
   "metadata": {},
   "outputs": [],
   "source": [
    "dist_out_dir <- '/home/workspace/spatial_mouse_lung_outputs/downstream_analysis/distance'\n",
    "plot_out_dir <- file.path(dist_out_dir, 'plots')"
   ]
  },
  {
   "cell_type": "code",
   "execution_count": 4,
   "id": "b66b5484-a0d0-4c9e-993d-f597720c3459",
   "metadata": {},
   "outputs": [
    {
     "name": "stderr",
     "output_type": "stream",
     "text": [
      "Warning message:\n",
      "“\u001b[1m\u001b[22mThe names of these selected \u001b[32muns\u001b[39m items have been modified to match R\n",
      "conventions: \u001b[32m'_scvi_manager_uuid' -> 'X_scvi_manager_uuid'\u001b[39m and \u001b[32m'_scvi_uuid' ->\u001b[39m\n",
      "\u001b[32m'X_scvi_uuid'\u001b[39m”\n",
      "Warning message:\n",
      "“\u001b[1m\u001b[22mThe names of these selected \u001b[32mobs\u001b[39m columns have been modified to match R\n",
      "conventions: \u001b[32m'_scvi_batch' -> 'X_scvi_batch'\u001b[39m and \u001b[32m'_scvi_labels' ->\u001b[39m\n",
      "\u001b[32m'X_scvi_labels'\u001b[39m”\n"
     ]
    }
   ],
   "source": [
    "# Load data\n",
    "sce <- readH5AD(file.path(dist_out_dir, 'adata_distance_zones_structure.h5ad'))"
   ]
  },
  {
   "cell_type": "code",
   "execution_count": 5,
   "id": "8c91373e-806c-40bf-b861-3cc84dd1e00d",
   "metadata": {},
   "outputs": [],
   "source": [
    "sce_d3 <- sce[, sce$sample_label == \"HDM_day3\"]\n",
    "sce_d30 <- sce[, sce$sample_label == \"HDM_day30\"]"
   ]
  },
  {
   "cell_type": "code",
   "execution_count": 6,
   "id": "a42536b6-beda-4cda-954f-8b99ea1d3a44",
   "metadata": {},
   "outputs": [],
   "source": [
    "sce_d3_cd4 <- sce_d3[, sce_d3$label_medium == \"CD4 act\"]"
   ]
  },
  {
   "cell_type": "markdown",
   "id": "18c09e21-ef12-4496-bef6-7b50a8a959f0",
   "metadata": {},
   "source": [
    "### Plotting code"
   ]
  },
  {
   "cell_type": "code",
   "execution_count": 7,
   "id": "c37c81ec-0595-46d8-a5a6-ce0d0a29921b",
   "metadata": {},
   "outputs": [],
   "source": [
    "plot_gene_expr <- function(sce, gene_list, color_list, dist_col = \"avg_distance_to_TLS_zone\", xlims = c(0,500), scale = FALSE) {\n",
    "  \n",
    "  # Custom theme\n",
    "  theme_custom <- function(base_size = 12){ \n",
    "    theme_bw(base_size = base_size) %+replace%\n",
    "      theme(\n",
    "        panel.grid = element_blank(), \n",
    "        strip.background = element_rect(fill = \"#F2F2F2\", colour = NA)\n",
    "      )\n",
    "  }\n",
    "  \n",
    "  # Set theme and plot options\n",
    "  theme_set(theme_custom())\n",
    "  options(repr.plot.width = 8, repr.plot.height = 5, repr.plot.res = 250)\n",
    "  \n",
    "  # Check matching lengths\n",
    "  if (length(gene_list) != length(color_list)) {\n",
    "    stop(\"gene_list and color_list must be the same length.\")\n",
    "  }\n",
    "\n",
    "    # filter out cells beyond xlims\n",
    "    sce <- sce[, colData(sce)[[dist_col]] >= xlims[1] & colData(sce)[[dist_col]] <= xlims[2]]\n",
    "\n",
    "    print(dim(sce_d3_cd4)[2])\n",
    "  \n",
    "  # Build combined dataframe\n",
    "  plot_data <- do.call(rbind, lapply(seq_along(gene_list), function(i) {\n",
    "    g <- gene_list[i]\n",
    "    expr <- assay(sce, \"X\")[g, ]\n",
    "    \n",
    "    if (scale) {\n",
    "      expr <- scale(expr)[,1]\n",
    "    }\n",
    "    \n",
    "    data.frame(\n",
    "      Axis_value = colData(sce)[[dist_col]],\n",
    "      Expression = expr,\n",
    "      Gene = g\n",
    "    )\n",
    "  }))\n",
    "  \n",
    "  # Plot\n",
    "  p <- ggplot(plot_data, aes(x = Axis_value, y = Expression, color = Gene)) +\n",
    "    geom_smooth(se = FALSE, linewidth = 1, alpha = 0.4) +\n",
    "    scale_x_continuous(breaks = c(0, 500), labels = c(\"0\", \"500\"), limits = c(0, 500)) +\n",
    "    scale_color_manual(values = setNames(color_list, gene_list)) +\n",
    "    theme(\n",
    "      axis.title = element_blank(),\n",
    "      axis.text.y = element_text(size = 18),\n",
    "      axis.text.x = element_text(size = 18),\n",
    "      legend.title = element_blank(),\n",
    "      legend.text = element_text(size = 18),\n",
    "      strip.text = element_text(size = 18),\n",
    "      plot.title = element_text(hjust = 0.5, size = 16)\n",
    "    ) \n",
    "  \n",
    "  return(p)\n",
    "}\n"
   ]
  },
  {
   "cell_type": "markdown",
   "id": "fdc4a5aa-02bd-4c61-b432-9ee19b75ee9f",
   "metadata": {},
   "source": [
    "## Plot gene expression in all cells "
   ]
  },
  {
   "cell_type": "code",
   "execution_count": 8,
   "id": "a77bc9e1-a481-4bf9-a885-06dec11bd89c",
   "metadata": {},
   "outputs": [
    {
     "name": "stdout",
     "output_type": "stream",
     "text": [
      "[1] 8658\n"
     ]
    },
    {
     "name": "stderr",
     "output_type": "stream",
     "text": [
      "\u001b[1m\u001b[22m`geom_smooth()` using method = 'gam' and formula = 'y ~ s(x, bs = \"cs\")'\n"
     ]
    }
   ],
   "source": [
    "gene_list = c(\"Cx3cl1\", \"Ccl21a\", 'Il15')\n",
    "color_list <- brewer.pal(n = length(gene_list), name = \"Set2\")\n",
    "p <- plot_gene_expr(sce = sce_d3,\n",
    "               gene_list = gene_list,\n",
    "               color_list <- color_list,\n",
    "               dist_col = \"avg_distance_to_bronchi_zone\",\n",
    "               scale = FALSE)\n",
    "ggsave(filename = file.path(plot_out_dir, \"day3_bronchi_cyto_genes_expr.pdf\"), plot = p, width = 6, height = 4)"
   ]
  },
  {
   "cell_type": "markdown",
   "id": "31e96aa1-a77c-4380-9cbb-59e85ecb57f4",
   "metadata": {},
   "source": [
    "## Plot gene expression in CD4s"
   ]
  },
  {
   "cell_type": "code",
   "execution_count": 15,
   "id": "3038619a-711a-4c10-9e29-a55321e7e9df",
   "metadata": {},
   "outputs": [
    {
     "name": "stdout",
     "output_type": "stream",
     "text": [
      "[1] 8658\n"
     ]
    },
    {
     "name": "stderr",
     "output_type": "stream",
     "text": [
      "\u001b[1m\u001b[22m`geom_smooth()` using method = 'gam' and formula = 'y ~ s(x, bs = \"cs\")'\n"
     ]
    }
   ],
   "source": [
    "gene_list = c(\"Tcf7\", \"Gata3\", \"Il1rl1\", \"Ccr7\", \"Il13\")\n",
    "# color_list <- c(\"#8B0000\", \"#300018\")\n",
    "color_list <- brewer.pal(n = length(gene_list), name = \"Set2\")\n",
    "p <- plot_gene_expr(sce = sce_d3_cd4,\n",
    "               gene_list = gene_list,\n",
    "               color_list <- color_list,\n",
    "               dist_col = \"avg_distance_to_bronchi_zone\",\n",
    "               scale = FALSE)\n",
    "ggsave(filename = file.path(plot_out_dir, \"day3_bronchi_CD4_genes_expr.pdf\"), plot = p, width = 5, height = 4)"
   ]
  },
  {
   "cell_type": "code",
   "execution_count": 39,
   "id": "f9644bb5-142c-4b92-bfb0-2a12067f8634",
   "metadata": {},
   "outputs": [
    {
     "data": {
      "text/html": [
       "8350"
      ],
      "text/latex": [
       "8350"
      ],
      "text/markdown": [
       "8350"
      ],
      "text/plain": [
       "[1] 8350"
      ]
     },
     "metadata": {},
     "output_type": "display_data"
    }
   ],
   "source": [
    "dim(sce_d3_cd4)[2]"
   ]
  }
 ],
 "metadata": {
  "kernelspec": {
   "display_name": "r_seurat",
   "language": "R",
   "name": "r_seurat"
  },
  "language_info": {
   "codemirror_mode": "r",
   "file_extension": ".r",
   "mimetype": "text/x-r-source",
   "name": "R",
   "pygments_lexer": "r",
   "version": "4.4.3"
  }
 },
 "nbformat": 4,
 "nbformat_minor": 5
}
