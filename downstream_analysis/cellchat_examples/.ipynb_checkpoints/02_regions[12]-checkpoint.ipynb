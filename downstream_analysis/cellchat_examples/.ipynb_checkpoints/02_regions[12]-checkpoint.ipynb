{
 "cells": [
  {
   "cell_type": "code",
   "execution_count": 1,
   "metadata": {
    "vscode": {
     "languageId": "r"
    }
   },
   "outputs": [],
   "source": [
    "# install packages\n",
    "# remotes::install_github(\"jokergoo/circlize@9b21578\")\n",
    "# remotes::install_github(\"jokergoo/ComplexHeatmap@7d95ca5\")\n",
    "# remotes::install_github(\"immunogenomics/presto@31dc97f\")\n",
    "# remotes::install_github(\"jinworks/CellChat@88c2e13\")\n",
    "# BiocManager::install(\"GenomeInfoDbData\")"
   ]
  },
  {
   "cell_type": "code",
   "execution_count": 2,
   "metadata": {
    "vscode": {
     "languageId": "r"
    }
   },
   "outputs": [],
   "source": [
    "suppressPackageStartupMessages({\n",
    "    library(tidyverse)\n",
    "    library(zellkonverter)\n",
    "    library(scater)\n",
    "    #library(scran)\n",
    "    library(scuttle)\n",
    "    library(SingleCellExperiment)\n",
    "    library(CellChat)\n",
    "})"
   ]
  },
  {
   "cell_type": "code",
   "execution_count": 3,
   "metadata": {
    "vscode": {
     "languageId": "r"
    }
   },
   "outputs": [
    {
     "name": "stderr",
     "output_type": "stream",
     "text": [
      "Warning message:\n",
      "“\u001b[1m\u001b[22mThe names of these selected \u001b[32muns\u001b[39m items have been modified to match R\n",
      "conventions: \u001b[32m'_scvi_manager_uuid' -> 'X_scvi_manager_uuid'\u001b[39m and \u001b[32m'_scvi_uuid' ->\u001b[39m\n",
      "\u001b[32m'X_scvi_uuid'\u001b[39m”\n",
      "Warning message:\n",
      "“\u001b[1m\u001b[22mThe names of these selected \u001b[32mobs\u001b[39m columns have been modified to match R\n",
      "conventions: \u001b[32m'_scvi_batch' -> 'X_scvi_batch'\u001b[39m and \u001b[32m'_scvi_labels' ->\u001b[39m\n",
      "\u001b[32m'X_scvi_labels'\u001b[39m”\n"
     ]
    }
   ],
   "source": [
    "sce = readH5AD(\"tmp/adata_prepped.h5ad\")"
   ]
  },
  {
   "cell_type": "code",
   "execution_count": 4,
   "metadata": {
    "vscode": {
     "languageId": "r"
    }
   },
   "outputs": [],
   "source": [
    "#sce$Timepoint <- stringr::str_extract(sce$batch, \"\\\\d+\")\n",
    "sce$Timepoint <- factor(sce$Timepoint, levels = c(\"d7\", \"d30\"))"
   ]
  },
  {
   "cell_type": "code",
   "execution_count": 5,
   "metadata": {
    "vscode": {
     "languageId": "r"
    }
   },
   "outputs": [],
   "source": [
    "run_cellchat <- function(sce_tmp, name) {\n",
    "    \n",
    "\n",
    "    data.input = assay(sce_tmp, \"X\") # X are the log norm counts here, see part 1\n",
    "    meta = data.frame(labels = sce_tmp$celltype_1,\n",
    "                    samples = sce_tmp$new_batch,\n",
    "                    row.names = colnames(sce_tmp))\n",
    "    spatial.locs = reducedDim(sce_tmp, 'X_spatial') |> as.data.frame()\n",
    "    scale.factors = list(spot.diameter = 5, spot = 5)\n",
    "    spatial.factors = data.frame(ratio = 1, tol = 5)\n",
    "\n",
    "    cellchat <-\n",
    "        createCellChat(\n",
    "            object = data.input,\n",
    "            meta = meta,\n",
    "            group.by = \"labels\",\n",
    "            datatype = \"spatial\",\n",
    "            coordinates = spatial.locs,\n",
    "            spatial.factors = spatial.factors\n",
    "        )\n",
    "\n",
    "\n",
    "    CellChatDB <- CellChatDB.mouse # use CellChatDB.human if running on human data\n",
    "\n",
    "    # use a subset of CellChatDB for cell-cell communication analysis\n",
    "    # CellChatDB.use <- subsetDB(CellChatDB, search = \"Secreted Signaling\") # use Secreted Signaling\n",
    "    # use all CellChatDB for cell-cell communication analysis\n",
    "    CellChatDB.use <- CellChatDB # simply use the default CellChatDB\n",
    "\n",
    "    # set the used database in the object\n",
    "    cellchat@DB <- CellChatDB.use\n",
    "\n",
    "    # subset the expression data of signaling genes for saving computation cost\n",
    "    cellchat <- subsetData(cellchat) # This step is necessary even if using the whole database\n",
    "\n",
    "    # future::plan(\"multisession\", workers = 8) # do parallel\n",
    "    cellchat <- identifyOverExpressedGenes(cellchat)\n",
    "    cellchat <- identifyOverExpressedInteractions(cellchat)\n",
    "\n",
    "    # Typically, contact.range = 10, which is a typical human cell size\n",
    "    cellchat <- computeCommunProb(cellchat,\n",
    "        type = \"truncatedMean\", trim = 0.05,\n",
    "        distance.use = TRUE, interaction.range = 100,\n",
    "        scale.distance = 1,\n",
    "        contact.dependent = TRUE, contact.range = 10\n",
    "    )\n",
    "    # Filter out the cell-cell communication if there are only few number of cells in certain cell groups\n",
    "    cellchat <- filterCommunication(cellchat, min.cells = 10)\n",
    "\n",
    "    cellchat <- computeCommunProbPathway(cellchat)\n",
    "    cellchat <- aggregateNet(cellchat)\n",
    "\n",
    "    saveRDS(cellchat, file = paste0(\"tmp/cellchat_\",name,\".rds\"))\n",
    "}"
   ]
  },
  {
   "cell_type": "code",
   "execution_count": 6,
   "metadata": {
    "vscode": {
     "languageId": "r"
    }
   },
   "outputs": [],
   "source": [
    "cellchat_Timepoint <- function(sce, timepoint) {\n",
    "    sce_tmp = sce[,sce$Timepoint == timepoint]\n",
    "\n",
    "    # This is absolutely key. Otherwise Cellchat does not WORK!\n",
    "    sce_tmp$new_batch <- droplevels(sce_tmp$new_batch)\n",
    "    \n",
    "    run_cellchat(sce_tmp, timepoint)\n",
    "}"
   ]
  },
  {
   "cell_type": "code",
   "execution_count": 7,
   "metadata": {
    "vscode": {
     "languageId": "r"
    }
   },
   "outputs": [
    {
     "name": "stdout",
     "output_type": "stream",
     "text": [
      "[1] \"Create a CellChat object from a data matrix\"\n",
      "Create a CellChat object from spatial transcriptomics data... \n",
      "Set cell identities for the new CellChat object \n",
      "The cell groups used for CellChat analysis are  Basal Cells, Dendritic Cells, Fibroblasts, Luminal Cells, Lymphatic Endothelial Cells, Macrophages, Mesenchymal, Monocytes/Neutrophils, Smooth Muscle/Myofibroblasts, T Cells (epithelial), T Cells (stromal), Vascular Endothelial Cells \n",
      "The number of highly variable ligand-receptor pairs used for signaling inference is 209 \n",
      "truncatedMean is used for calculating the average gene expression per cell group. \n",
      "[1] \">>> Run CellChat on spatial transcriptomics data using distances as constraints of the computed communication probability <<< [2025-04-14 11:13:41.336524]\"\n",
      "The input L-R pairs have both secreted signaling and contact-dependent signaling. Run CellChat in a contact-dependent manner for `Cell-Cell Contact` signaling, and in a diffusion manner based on the `interaction.range` for other L-R pairs. \n",
      "[1] \">>> CellChat inference is done. Parameter values are stored in `object@options$parameter` <<< [2025-04-14 11:15:35.392977]\"\n",
      "[1] \"Create a CellChat object from a data matrix\"\n",
      "Create a CellChat object from spatial transcriptomics data... \n",
      "Set cell identities for the new CellChat object \n",
      "The cell groups used for CellChat analysis are  Basal Cells, Dendritic Cells, Fibroblasts, Luminal Cells, Lymphatic Endothelial Cells, Macrophages, Mesenchymal, Monocytes/Neutrophils, Smooth Muscle/Myofibroblasts, T Cells (epithelial), T Cells (stromal), Vascular Endothelial Cells \n",
      "The number of highly variable ligand-receptor pairs used for signaling inference is 208 \n",
      "truncatedMean is used for calculating the average gene expression per cell group. \n",
      "[1] \">>> Run CellChat on spatial transcriptomics data using distances as constraints of the computed communication probability <<< [2025-04-14 11:17:38.987615]\"\n",
      "The input L-R pairs have both secreted signaling and contact-dependent signaling. Run CellChat in a contact-dependent manner for `Cell-Cell Contact` signaling, and in a diffusion manner based on the `interaction.range` for other L-R pairs. \n",
      "[1] \">>> CellChat inference is done. Parameter values are stored in `object@options$parameter` <<< [2025-04-14 11:20:31.115014]\"\n"
     ]
    }
   ],
   "source": [
    "cellchat_Timepoint(sce, 'd7')\n",
    "cellchat_Timepoint(sce, 'd30')\n"
   ]
  },
  {
   "cell_type": "code",
   "execution_count": 8,
   "metadata": {
    "vscode": {
     "languageId": "r"
    }
   },
   "outputs": [
    {
     "name": "stdout",
     "output_type": "stream",
     "text": [
      "[1] \"Create a CellChat object from a data matrix\"\n",
      "Create a CellChat object from spatial transcriptomics data... \n",
      "Set cell identities for the new CellChat object \n",
      "The cell groups used for CellChat analysis are  Basal Cells, Dendritic Cells, Fibroblasts, Luminal Cells, Lymphatic Endothelial Cells, Macrophages, Mesenchymal, Monocytes/Neutrophils, Smooth Muscle/Myofibroblasts, T Cells (epithelial), T Cells (stromal), Vascular Endothelial Cells \n",
      "The number of highly variable ligand-receptor pairs used for signaling inference is 209 \n",
      "truncatedMean is used for calculating the average gene expression per cell group. \n",
      "[1] \">>> Run CellChat on spatial transcriptomics data using distances as constraints of the computed communication probability <<< [2025-04-14 11:23:49.272705]\"\n",
      "The input L-R pairs have both secreted signaling and contact-dependent signaling. Run CellChat in a contact-dependent manner for `Cell-Cell Contact` signaling, and in a diffusion manner based on the `interaction.range` for other L-R pairs. \n",
      "[1] \">>> CellChat inference is done. Parameter values are stored in `object@options$parameter` <<< [2025-04-14 11:28:34.798572]\"\n"
     ]
    }
   ],
   "source": [
    "run_cellchat(sce, \"full\")"
   ]
  },
  {
   "cell_type": "code",
   "execution_count": 9,
   "metadata": {
    "vscode": {
     "languageId": "r"
    }
   },
   "outputs": [],
   "source": [
    "# data.input = assay(sce, \"X\") # X are the log norm counts here, see part 1\n",
    "# meta = data.frame(labels = sce$Subtype_gate,\n",
    "#                   slices = sce$batch,\n",
    "#                   row.names = colnames(sce))\n",
    "# spatial.locs = reducedDim(sce, 'X_spatial') |> as.data.frame()\n",
    "# scale.factors = list(spot.diameter = 5, spot = 5)\n",
    "# spatial.factors = data.frame(ratio = 1, tol = 5)"
   ]
  },
  {
   "cell_type": "code",
   "execution_count": 10,
   "metadata": {
    "vscode": {
     "languageId": "r"
    }
   },
   "outputs": [],
   "source": [
    "# cellchat <-\n",
    "#   createCellChat(\n",
    "#     object = data.input,\n",
    "#     meta = meta,\n",
    "#     group.by = \"labels\",\n",
    "#     datatype = \"spatial\",\n",
    "#     coordinates = spatial.locs,\n",
    "#     spatial.factors = spatial.factors\n",
    "#   )"
   ]
  },
  {
   "cell_type": "code",
   "execution_count": 11,
   "metadata": {
    "vscode": {
     "languageId": "r"
    }
   },
   "outputs": [],
   "source": [
    "# cellchat"
   ]
  },
  {
   "cell_type": "code",
   "execution_count": 12,
   "metadata": {
    "vscode": {
     "languageId": "r"
    }
   },
   "outputs": [],
   "source": [
    "# CellChatDB <- CellChatDB.mouse # use CellChatDB.human if running on human data\n",
    "\n",
    "# # use a subset of CellChatDB for cell-cell communication analysis\n",
    "# # CellChatDB.use <- subsetDB(CellChatDB, search = \"Secreted Signaling\") # use Secreted Signaling\n",
    "# # use all CellChatDB for cell-cell communication analysis\n",
    "# CellChatDB.use <- CellChatDB # simply use the default CellChatDB\n",
    "\n",
    "# # set the used database in the object\n",
    "# cellchat@DB <- CellChatDB.use"
   ]
  },
  {
   "cell_type": "code",
   "execution_count": 13,
   "metadata": {
    "vscode": {
     "languageId": "r"
    }
   },
   "outputs": [],
   "source": [
    "# # subset the expression data of signaling genes for saving computation cost\n",
    "# cellchat <- subsetData(cellchat) # This step is necessary even if using the whole database\n"
   ]
  },
  {
   "cell_type": "code",
   "execution_count": 14,
   "metadata": {
    "vscode": {
     "languageId": "r"
    }
   },
   "outputs": [],
   "source": [
    "# # future::plan(\"multisession\", workers = 8) # do parallel\n",
    "# cellchat <- identifyOverExpressedGenes(cellchat)\n",
    "# cellchat <- identifyOverExpressedInteractions(cellchat)"
   ]
  },
  {
   "cell_type": "markdown",
   "metadata": {},
   "source": [
    "This part takes a long time to run!\n",
    "(~3h)"
   ]
  },
  {
   "cell_type": "code",
   "execution_count": 15,
   "metadata": {
    "vscode": {
     "languageId": "r"
    }
   },
   "outputs": [],
   "source": [
    "# # Typically, contact.range = 10, which is a typical human cell size\n",
    "# cellchat <- computeCommunProb(cellchat,\n",
    "#   type = \"truncatedMean\", trim = 0.1,\n",
    "#   distance.use = TRUE,, interaction.range = 100,\n",
    "#   scale.distance = 1,\n",
    "#   contact.dependent = TRUE, contact.range = 10\n",
    "# )\n",
    "# # Filter out the cell-cell communication if there are only few number of cells in certain cell groups\n",
    "# cellchat <- filterCommunication(cellchat, min.cells = 10)\n"
   ]
  },
  {
   "cell_type": "code",
   "execution_count": 16,
   "metadata": {
    "vscode": {
     "languageId": "r"
    }
   },
   "outputs": [],
   "source": [
    "# cellchat <- computeCommunProbPathway(cellchat)\n",
    "# cellchat <- aggregateNet(cellchat)"
   ]
  },
  {
   "cell_type": "code",
   "execution_count": 17,
   "metadata": {
    "vscode": {
     "languageId": "r"
    }
   },
   "outputs": [],
   "source": [
    "# saveRDS(cellchat, file = \"tmp/cellchat.rds\")"
   ]
  }
 ],
 "metadata": {
  "kernelspec": {
   "display_name": "R",
   "language": "R",
   "name": "ir"
  },
  "language_info": {
   "codemirror_mode": "r",
   "file_extension": ".r",
   "mimetype": "text/x-r-source",
   "name": "R",
   "pygments_lexer": "r",
   "version": "4.3.0"
  }
 },
 "nbformat": 4,
 "nbformat_minor": 2
}
