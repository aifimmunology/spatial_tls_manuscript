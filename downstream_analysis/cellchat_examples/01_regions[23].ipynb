{
 "cells": [
  {
   "cell_type": "code",
   "execution_count": 6,
   "metadata": {},
   "outputs": [],
   "source": [
    "import scanpy as sc\n",
    "import matplotlib.pyplot as plt\n",
    "import numpy as np\n",
    "import warnings\n",
    "\n",
    "warnings.filterwarnings(\"ignore\")"
   ]
  },
  {
   "cell_type": "code",
   "execution_count": 7,
   "metadata": {},
   "outputs": [],
   "source": [
    "adata = sc.read('/projects/Kennidy/Prostate_Spatial_R2/celltype_annotated_updated.h5ad')"
   ]
  },
  {
   "cell_type": "code",
   "execution_count": 8,
   "metadata": {},
   "outputs": [],
   "source": [
    "adata.obs['classification'] = adata.obs['classification'].values.tolist()\n",
    "adata.obs['celltype_1'] = adata.obs['celltype_1'].values.tolist()"
   ]
  },
  {
   "cell_type": "code",
   "execution_count": 9,
   "metadata": {},
   "outputs": [
    {
     "name": "stdout",
     "output_type": "stream",
     "text": [
      "Updated T cell categories:\n",
      "T Cells (epithelial)    3246\n",
      "T Cells (stromal)       2454\n",
      "T Cells (neither)        576\n",
      "Name: celltype_1, dtype: int64\n"
     ]
    },
    {
     "data": {
      "text/plain": [
       "aaaabbfn-1                   Luminal Cells\n",
       "aaaagcgg-1                   Luminal Cells\n",
       "aaaahjla-1                   Luminal Cells\n",
       "aaaangin-1                   Luminal Cells\n",
       "aaabanfh-1                   Luminal Cells\n",
       "                          ...             \n",
       "oighnanh-1                   Luminal Cells\n",
       "oigifhjb-1      Vascular Endothelial Cells\n",
       "oigmfdil-1    Smooth Muscle/Myofibroblasts\n",
       "oigpicnf-1                     Macrophages\n",
       "oihcdnjg-1     Lymphatic Endothelial Cells\n",
       "Name: celltype_1, Length: 192387, dtype: object"
      ]
     },
     "execution_count": 9,
     "metadata": {},
     "output_type": "execute_result"
    }
   ],
   "source": [
    "#wherever cell_type_1 is 'T Cells', add the classification to the cell_type_1 column\n",
    "# Create a mask for T Cells\n",
    "t_cells_mask = adata.obs['celltype_1'] == 'T Cells'\n",
    "\n",
    "# For T cells, combine the cell type with classification\n",
    "# Format: \"T Cells (classification)\"\n",
    "adata.obs.loc[t_cells_mask, 'celltype_1'] = (\n",
    "    'T Cells (' + adata.obs.loc[t_cells_mask, 'classification'] + ')'\n",
    ")\n",
    "\n",
    "# Check the updated cell types\n",
    "print(\"Updated T cell categories:\")\n",
    "print(adata.obs.loc[t_cells_mask, 'celltype_1'].value_counts())\n",
    "\n",
    "adata.obs['celltype_1']\n"
   ]
  },
  {
   "cell_type": "code",
   "execution_count": 10,
   "metadata": {},
   "outputs": [],
   "source": [
    "#adata = adata[adata.obs['Timepoint'] == 'd30']"
   ]
  },
  {
   "cell_type": "code",
   "execution_count": 11,
   "metadata": {},
   "outputs": [],
   "source": [
    "sc.pp.filter_cells(adata, min_genes=5)\n",
    "sc.pp.filter_genes(adata, min_cells=5)"
   ]
  },
  {
   "cell_type": "code",
   "execution_count": 12,
   "metadata": {},
   "outputs": [],
   "source": [
    "\n",
    "sc.pp.normalize_total(adata, target_sum=1e4)\n",
    "sc.pp.log1p(adata)"
   ]
  },
  {
   "cell_type": "markdown",
   "metadata": {},
   "source": [
    "# Assign all cells"
   ]
  },
  {
   "cell_type": "code",
   "execution_count": 15,
   "metadata": {},
   "outputs": [],
   "source": [
    "adata = adata[adata.obs['celltype_1'] != 'T Cells (neither)']\n"
   ]
  },
  {
   "cell_type": "code",
   "execution_count": 16,
   "metadata": {},
   "outputs": [
    {
     "name": "stdout",
     "output_type": "stream",
     "text": [
      "Folder 'tmp' already exists.\n"
     ]
    }
   ],
   "source": [
    "import os\n",
    "\n",
    "if not os.path.exists(\"tmp\"):\n",
    "    os.makedirs(\"tmp\")\n",
    "    print(f\"Folder 'tmp' created successfully!\")\n",
    "else:\n",
    "    print(f\"Folder 'tmp' already exists.\")\n",
    "\n",
    "adata.write_h5ad(\"tmp/adata_prepped.h5ad\")"
   ]
  }
 ],
 "metadata": {
  "kernelspec": {
   "display_name": "Python 3",
   "language": "python",
   "name": "python3"
  },
  "language_info": {
   "codemirror_mode": {
    "name": "ipython",
    "version": 3
   },
   "file_extension": ".py",
   "mimetype": "text/x-python",
   "name": "python",
   "nbconvert_exporter": "python",
   "pygments_lexer": "ipython3",
   "version": "3.8.18"
  }
 },
 "nbformat": 4,
 "nbformat_minor": 2
}
