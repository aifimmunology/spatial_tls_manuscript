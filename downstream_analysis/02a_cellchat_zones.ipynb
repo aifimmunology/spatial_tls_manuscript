{
 "cells": [
  {
   "cell_type": "code",
   "execution_count": 5,
   "metadata": {},
   "outputs": [],
   "source": [
    "import sys\n",
    "import os\n",
    "\n",
    "import scanpy as sc\n",
    "import matplotlib.pyplot as plt\n",
    "import numpy as np\n",
    "import warnings\n",
    "\n",
    "warnings.filterwarnings(\"ignore\")"
   ]
  },
  {
   "cell_type": "code",
   "execution_count": 6,
   "metadata": {},
   "outputs": [],
   "source": [
    "dist_out_dir = '/home/workspace/spatial_mouse_lung_outputs/downstream_analysis/distance'\n",
    "\n",
    "if not os.path.exists (dist_out_dir):\n",
    "    os.makedirs(dist_out_dir)\n",
    "\n",
    "plot_out_dir = os.path.join(dist_out_dir, 'plots')\n",
    "if not os.path.exists (plot_out_dir):\n",
    "    os.makedirs(plot_out_dir)"
   ]
  },
  {
   "cell_type": "code",
   "execution_count": 41,
   "metadata": {},
   "outputs": [],
   "source": [
    "# adata = sc.read('/projects/Kennidy/Prostate_Spatial_R2/celltype_annotated_updated.h5ad')\n",
    "adata = sc.read_h5ad(os.path.join(dist_out_dir,'adata_distance_zones_structure.h5ad'))"
   ]
  },
  {
   "cell_type": "code",
   "execution_count": 42,
   "metadata": {},
   "outputs": [
    {
     "data": {
      "text/plain": [
       "['Col13a1+ fibroblast',\n",
       " 'Alv Mf',\n",
       " 'Cap',\n",
       " 'Vein',\n",
       " 'AT2',\n",
       " 'Mono',\n",
       " 'Th0',\n",
       " 'Pericyte 2',\n",
       " 'Cap-a',\n",
       " 'Neut',\n",
       " 'Pericyte 1',\n",
       " 'Club',\n",
       " 'Ciliated',\n",
       " 'Art',\n",
       " 'AT1',\n",
       " 'CD4 naive',\n",
       " 'B cell',\n",
       " 'Th17',\n",
       " 'Int Mf',\n",
       " 'CD8 naive',\n",
       " 'SMC',\n",
       " 'gd T cell',\n",
       " 'Plasmablast',\n",
       " 'Th2',\n",
       " 'Lymph',\n",
       " 'Ccr7- cDC2',\n",
       " 'NK cell',\n",
       " 'cDC1',\n",
       " 'CD4 trans',\n",
       " 'Ccr7+ cDC2',\n",
       " 'Th1',\n",
       " 'CD8 act',\n",
       " 'Mesothelial',\n",
       " 'Treg',\n",
       " 'Myofibroblast',\n",
       " 'Col14a1+ fibroblast',\n",
       " 'ILC2']"
      ]
     },
     "execution_count": 42,
     "metadata": {},
     "output_type": "execute_result"
    }
   ],
   "source": [
    "adata.obs['label_fine'].unique().tolist()"
   ]
  },
  {
   "cell_type": "code",
   "execution_count": 43,
   "metadata": {},
   "outputs": [],
   "source": [
    "# focus only on TLS, adventitia, parenchyma\n",
    "adata = adata[adata.obs['zone_consol'].isin(['TLS', 'adventitia', 'parenchyma']), :]\n",
    "# set labels\n",
    "adata.obs['zone_consol'] = adata.obs['zone_consol'].values.tolist()\n",
    "adata.obs['label_fine'] = adata.obs['label_fine'].values.tolist()"
   ]
  },
  {
   "cell_type": "code",
   "execution_count": 45,
   "metadata": {},
   "outputs": [
    {
     "name": "stdout",
     "output_type": "stream",
     "text": [
      "Updated T cell categories:\n",
      "label_fine\n",
      "CD4 act (parenchyma)    6313\n",
      "CD4 act (adventitia)    2409\n",
      "CD4 act (TLS)            842\n",
      "Name: count, dtype: int64\n"
     ]
    }
   ],
   "source": [
    "#wherever cell_type_1 is 'T Cells', add the classification to the cell_type_1 column\n",
    "# Create a mask for CD4 act\n",
    "cd4_mask = adata.obs['label_fine'].isin(['Th0', 'Th1', 'Th17', 'Th2', 'Treg', 'CD4 trans'])\n",
    "\n",
    "# make single activated T cell label per region \n",
    "adata.obs.loc[cd4_mask, 'label_fine'] = (\n",
    "    'CD4 act (' + adata.obs.loc[cd4_mask, 'zone_consol'] + ')'\n",
    ")\n",
    "\n",
    "# Check the updated cell types\n",
    "print(\"Updated T cell categories:\")\n",
    "print(adata.obs.loc[cd4_mask, 'label_fine'].value_counts())\n",
    "\n",
    "# adata.obs['label_medium']\n"
   ]
  },
  {
   "cell_type": "code",
   "execution_count": 46,
   "metadata": {},
   "outputs": [],
   "source": [
    "sc.pp.filter_cells(adata, min_genes=5)\n",
    "sc.pp.filter_genes(adata, min_cells=5)"
   ]
  },
  {
   "cell_type": "code",
   "execution_count": 47,
   "metadata": {},
   "outputs": [],
   "source": [
    "\n",
    "sc.pp.normalize_total(adata, target_sum=1e4)\n",
    "sc.pp.log1p(adata)"
   ]
  },
  {
   "cell_type": "markdown",
   "metadata": {},
   "source": [
    "# Assign all cells"
   ]
  },
  {
   "cell_type": "code",
   "execution_count": 48,
   "metadata": {},
   "outputs": [],
   "source": [
    "adata.write_h5ad(os.path.join(dist_out_dir,'adata_cellchat_prepped.h5ad'))"
   ]
  },
  {
   "cell_type": "code",
   "execution_count": null,
   "metadata": {},
   "outputs": [],
   "source": []
  }
 ],
 "metadata": {
  "kernelspec": {
   "display_name": "space2",
   "language": "python",
   "name": "space2"
  },
  "language_info": {
   "codemirror_mode": {
    "name": "ipython",
    "version": 3
   },
   "file_extension": ".py",
   "mimetype": "text/x-python",
   "name": "python",
   "nbconvert_exporter": "python",
   "pygments_lexer": "ipython3",
   "version": "3.12.2"
  }
 },
 "nbformat": 4,
 "nbformat_minor": 4
}
