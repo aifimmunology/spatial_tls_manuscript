{
 "cells": [
  {
   "cell_type": "code",
   "execution_count": 1,
   "metadata": {
    "vscode": {
     "languageId": "r"
    }
   },
   "outputs": [],
   "source": [
    "# install packages - did this in command line conda environment\n",
    "# remotes::install_github(\"jokergoo/circlize@9b21578\")\n",
    "# remotes::install_github(\"jokergoo/ComplexHeatmap@7d95ca5\")\n",
    "# remotes::install_github(\"immunogenomics/presto@31dc97f\")\n",
    "# remotes::install_github(\"jinworks/CellChat@88c2e13\")\n",
    "# BiocManager::install(\"GenomeInfoDbData\")"
   ]
  },
  {
   "cell_type": "code",
   "execution_count": 1,
   "metadata": {
    "vscode": {
     "languageId": "r"
    }
   },
   "outputs": [],
   "source": [
    "suppressPackageStartupMessages({\n",
    "    library(tidyverse)\n",
    "    library(zellkonverter)\n",
    "    # library(scater)\n",
    "    #library(scran)\n",
    "    # library(scuttle)\n",
    "    library(SingleCellExperiment)\n",
    "    library(CellChat)\n",
    "})"
   ]
  },
  {
   "cell_type": "code",
   "execution_count": 2,
   "metadata": {},
   "outputs": [],
   "source": [
    "dist_out_dir <- \"/home/workspace/spatial_mouse_lung_outputs/downstream_analysis/distance\"\n",
    "\n",
    "cellchat_out_dir <- file.path(dist_out_dir, \"cellchat\")\n",
    "if (!dir.exists(cellchat_out_dir)) {\n",
    "  dir.create(cellchat_out_dir, recursive = TRUE)\n",
    "}\n",
    "\n"
   ]
  },
  {
   "cell_type": "code",
   "execution_count": 3,
   "metadata": {
    "vscode": {
     "languageId": "r"
    }
   },
   "outputs": [
    {
     "name": "stderr",
     "output_type": "stream",
     "text": [
      "Warning message:\n",
      "“\u001b[1m\u001b[22mThe names of these selected \u001b[32muns\u001b[39m items have been modified to match R\n",
      "conventions: \u001b[32m'_scvi_manager_uuid' -> 'X_scvi_manager_uuid'\u001b[39m and \u001b[32m'_scvi_uuid' ->\u001b[39m\n",
      "\u001b[32m'X_scvi_uuid'\u001b[39m”\n",
      "Warning message:\n",
      "“\u001b[1m\u001b[22mThe names of these selected \u001b[32mobs\u001b[39m columns have been modified to match R\n",
      "conventions: \u001b[32m'_scvi_batch' -> 'X_scvi_batch'\u001b[39m and \u001b[32m'_scvi_labels' ->\u001b[39m\n",
      "\u001b[32m'X_scvi_labels'\u001b[39m”\n"
     ]
    }
   ],
   "source": [
    "sce = readH5AD(file.path(dist_out_dir, \"adata_cellchat_prepped.h5ad\"))"
   ]
  },
  {
   "cell_type": "code",
   "execution_count": 4,
   "metadata": {
    "vscode": {
     "languageId": "r"
    }
   },
   "outputs": [],
   "source": [
    "#sce$Timepoint <- stringr::str_extract(sce$batch, \"\\\\d+\")\n",
    "sce$sample_label <- factor(sce$sample_label, levels = c(\"HDM_day3\", \"HDM_day30\"))"
   ]
  },
  {
   "cell_type": "code",
   "execution_count": 5,
   "metadata": {},
   "outputs": [
    {
     "data": {
      "text/html": [
       "<style>\n",
       ".list-inline {list-style: none; margin:0; padding: 0}\n",
       ".list-inline>li {display: inline-block}\n",
       ".list-inline>li:not(:last-child)::after {content: \"\\00b7\"; padding: 0 .5ex}\n",
       "</style>\n",
       "<ol class=list-inline><li>'X_pca'</li><li>'X_scANVI'</li><li>'X_scVI_refalign'</li><li>'X_umap'</li><li>'X_umap_scanvi_refalign'</li><li>'X_umap_scvi_refalign'</li><li>'spatial'</li></ol>\n"
      ],
      "text/latex": [
       "\\begin{enumerate*}\n",
       "\\item 'X\\_pca'\n",
       "\\item 'X\\_scANVI'\n",
       "\\item 'X\\_scVI\\_refalign'\n",
       "\\item 'X\\_umap'\n",
       "\\item 'X\\_umap\\_scanvi\\_refalign'\n",
       "\\item 'X\\_umap\\_scvi\\_refalign'\n",
       "\\item 'spatial'\n",
       "\\end{enumerate*}\n"
      ],
      "text/markdown": [
       "1. 'X_pca'\n",
       "2. 'X_scANVI'\n",
       "3. 'X_scVI_refalign'\n",
       "4. 'X_umap'\n",
       "5. 'X_umap_scanvi_refalign'\n",
       "6. 'X_umap_scvi_refalign'\n",
       "7. 'spatial'\n",
       "\n",
       "\n"
      ],
      "text/plain": [
       "[1] \"X_pca\"                  \"X_scANVI\"               \"X_scVI_refalign\"       \n",
       "[4] \"X_umap\"                 \"X_umap_scanvi_refalign\" \"X_umap_scvi_refalign\"  \n",
       "[7] \"spatial\"               "
      ]
     },
     "metadata": {},
     "output_type": "display_data"
    }
   ],
   "source": [
    "reducedDimNames(sce)"
   ]
  },
  {
   "cell_type": "code",
   "execution_count": 6,
   "metadata": {
    "vscode": {
     "languageId": "r"
    }
   },
   "outputs": [],
   "source": [
    "run_cellchat <- function(sce_tmp, name, out_dir) {\n",
    "    \n",
    "    print(\"step: data.input\"); flush.console()\n",
    "    data.input = assay(sce_tmp, \"X\") # X are the log norm counts here, see part 1\n",
    "    meta = data.frame(labels = sce_tmp$label_fine,\n",
    "                    samples = sce_tmp$sample_label_cp, # (KA - I only have one sample, this is just a copy of sample_label\n",
    "                    row.names = colnames(sce_tmp))\n",
    "    print(\"step: spatial.locs\"); flush.console()\n",
    "    # spatial.locs = reducedDim(sce_tmp, 'spatial') |> as.data.frame() # KA this gives me an error \n",
    "    # spatial.locs = as.matrix(reducedDim(sce_tmp, 'spatial')) # this takes a long time\n",
    "    spatial.locs = reducedDim(sce_tmp, 'spatial')  # try this\n",
    "    scale.factors = list(spot.diameter = 5, spot = 5)\n",
    "    spatial.factors = data.frame(ratio = 1, tol = 5)\n",
    "\n",
    "    print(\"running: createCellChat\")\n",
    "    cellchat <-\n",
    "        createCellChat(\n",
    "            object = data.input,\n",
    "            meta = meta,\n",
    "            group.by = \"labels\",\n",
    "            datatype = \"spatial\",\n",
    "            coordinates = spatial.locs,\n",
    "            spatial.factors = spatial.factors\n",
    "        )\n",
    "\n",
    "\n",
    "    CellChatDB <- CellChatDB.mouse # use CellChatDB.human if running on human data\n",
    "\n",
    "    # use a subset of CellChatDB for cell-cell communication analysis\n",
    "    # CellChatDB.use <- subsetDB(CellChatDB, search = \"Secreted Signaling\") # use Secreted Signaling\n",
    "    # use all CellChatDB for cell-cell communication analysis\n",
    "    CellChatDB.use <- CellChatDB # simply use the default CellChatDB\n",
    "\n",
    "    # set the used database in the object\n",
    "    cellchat@DB <- CellChatDB.use\n",
    "\n",
    "    # subset the expression data of signaling genes for saving computation cost\n",
    "    cellchat <- subsetData(cellchat) # This step is necessary even if using the whole database\n",
    "\n",
    "    # future::plan(\"multisession\", workers = 8) # do parallel\n",
    "    print(\"running: identifyOverExpressedGenes, identifyOverExpressedInteractions\")\n",
    "    cellchat <- identifyOverExpressedGenes(cellchat)\n",
    "    cellchat <- identifyOverExpressedInteractions(cellchat)\n",
    "\n",
    "    # Typically, contact.range = 10, which is a typical human cell size\n",
    "    print(\"running: computeCommunProb\")\n",
    "    cellchat <- computeCommunProb(cellchat,\n",
    "        type = \"truncatedMean\", trim = 0.1, # try 0.1, could lower to 0.05\n",
    "        distance.use = TRUE, interaction.range = 100,\n",
    "        scale.distance = 1,\n",
    "        contact.dependent = TRUE, contact.range = 10\n",
    "    )\n",
    "    # Filter out the cell-cell communication if there are only few number of cells in certain cell groups\n",
    "    print(\"running: filterCommunication\")\n",
    "    cellchat <- filterCommunication(cellchat, min.cells = 10)\n",
    "\n",
    "    print(\"running: computeCommunProbPathway\")\n",
    "    cellchat <- computeCommunProbPathway(cellchat)\n",
    "    cellchat <- aggregateNet(cellchat)\n",
    "\n",
    "    print(paste(\"running: saveRDS for sample: \", name))\n",
    "    saveRDS(cellchat, file = file.path(out_dir, paste0(\"cellchat_\",name,\".rds\")))\n",
    "}"
   ]
  },
  {
   "cell_type": "code",
   "execution_count": 7,
   "metadata": {
    "vscode": {
     "languageId": "r"
    }
   },
   "outputs": [],
   "source": [
    "cellchat_sample <- function(sce, sample_label_select, out_dir) {\n",
    "\n",
    "    sce_tmp = sce[,sce$sample_label == sample_label_select]\n",
    "\n",
    "    # # try on subset\n",
    "    # sce_tmp <- sce_tmp[, sample(1:ncol(sce_tmp), 1000)]\n",
    "    \n",
    "    # This is absolutely key. Otherwise Cellchat does not WORK!\n",
    "    # KA note here - we have only one sample per condition - make a copy of the sample_label column \n",
    "    sce_tmp$sample_label_cp <- sce_tmp$sample_label\n",
    "    sce_tmp$sample_label_cp <- droplevels(sce_tmp$sample_label_cp)\n",
    "    # KA also do this for label column\n",
    "    sce_tmp$label_fine <- droplevels(sce_tmp$label_fine)\n",
    "\n",
    "    print(\"run_cellchat\"); flush.console()\n",
    "    run_cellchat(sce_tmp, sample_label_select, out_dir)\n",
    "}"
   ]
  },
  {
   "cell_type": "code",
   "execution_count": 8,
   "metadata": {},
   "outputs": [
    {
     "data": {
      "text/html": [
       "'/home/workspace/spatial_mouse_lung_outputs/downstream_analysis/distance/cellchat'"
      ],
      "text/latex": [
       "'/home/workspace/spatial\\_mouse\\_lung\\_outputs/downstream\\_analysis/distance/cellchat'"
      ],
      "text/markdown": [
       "'/home/workspace/spatial_mouse_lung_outputs/downstream_analysis/distance/cellchat'"
      ],
      "text/plain": [
       "[1] \"/home/workspace/spatial_mouse_lung_outputs/downstream_analysis/distance/cellchat\""
      ]
     },
     "metadata": {},
     "output_type": "display_data"
    }
   ],
   "source": [
    "cellchat_out_dir"
   ]
  },
  {
   "cell_type": "code",
   "execution_count": 9,
   "metadata": {
    "vscode": {
     "languageId": "r"
    }
   },
   "outputs": [
    {
     "name": "stdout",
     "output_type": "stream",
     "text": [
      "[1] \"run_cellchat\"\n",
      "[1] \"step: data.input\"\n",
      "[1] \"step: spatial.locs\"\n",
      "[1] \"running: createCellChat\"\n",
      "[1] \"Create a CellChat object from a data matrix\"\n",
      "Create a CellChat object from spatial transcriptomics data... \n",
      "Set cell identities for the new CellChat object \n",
      "The cell groups used for CellChat analysis are  AT1, AT2, Alv Mf, Art, B cell, CD4 act (TLS), CD4 act (adventitia), CD4 act (parenchyma), CD4 naive, CD8 act, CD8 naive, Cap, Cap-a, Ccr7+ cDC2, Ccr7- cDC2, Ciliated, Club, Col13a1+ fibroblast, Col14a1+ fibroblast, ILC2, Int Mf, Lymph, Mesothelial, Mono, Myofibroblast, NK cell, Neut, Pericyte 1, Pericyte 2, Plasmablast, SMC, Vein, cDC1, gd T cell \n",
      "[1] \"running: identifyOverExpressedGenes, identifyOverExpressedInteractions\"\n",
      "The number of highly variable ligand-receptor pairs used for signaling inference is 209 \n",
      "[1] \"running: computeCommunProb\"\n",
      "truncatedMean is used for calculating the average gene expression per cell group. \n",
      "[1] \">>> Run CellChat on spatial transcriptomics data using distances as constraints of the computed communication probability <<< [2025-06-09 12:27:44.436589]\"\n",
      "The input L-R pairs have both secreted signaling and contact-dependent signaling. Run CellChat in a contact-dependent manner for `Cell-Cell Contact` signaling, and in a diffusion manner based on the `interaction.range` for other L-R pairs. \n",
      "[1] \">>> CellChat inference is done. Parameter values are stored in `object@options$parameter` <<< [2025-06-09 12:39:35.656254]\"\n",
      "[1] \"running: filterCommunication\"\n",
      "[1] \"running: computeCommunProbPathway\"\n",
      "[1] \"running: saveRDS for sample:  HDM_day3\"\n",
      "[1] \"run_cellchat\"\n",
      "[1] \"step: data.input\"\n",
      "[1] \"step: spatial.locs\"\n",
      "[1] \"running: createCellChat\"\n",
      "[1] \"Create a CellChat object from a data matrix\"\n",
      "Create a CellChat object from spatial transcriptomics data... \n",
      "Set cell identities for the new CellChat object \n",
      "The cell groups used for CellChat analysis are  AT1, AT2, Alv Mf, Art, B cell, CD4 act (TLS), CD4 act (adventitia), CD4 act (parenchyma), CD4 naive, CD8 act, CD8 naive, Cap, Cap-a, Ccr7+ cDC2, Ccr7- cDC2, Ciliated, Club, Col13a1+ fibroblast, Col14a1+ fibroblast, ILC2, Int Mf, Lymph, Mesothelial, Mono, Myofibroblast, NK cell, Neut, Pericyte 1, Pericyte 2, Plasmablast, SMC, Vein, cDC1, gd T cell \n",
      "[1] \"running: identifyOverExpressedGenes, identifyOverExpressedInteractions\"\n",
      "The number of highly variable ligand-receptor pairs used for signaling inference is 209 \n",
      "[1] \"running: computeCommunProb\"\n",
      "truncatedMean is used for calculating the average gene expression per cell group. \n",
      "[1] \">>> Run CellChat on spatial transcriptomics data using distances as constraints of the computed communication probability <<< [2025-06-09 12:53:38.093112]\"\n",
      "The input L-R pairs have both secreted signaling and contact-dependent signaling. Run CellChat in a contact-dependent manner for `Cell-Cell Contact` signaling, and in a diffusion manner based on the `interaction.range` for other L-R pairs. \n",
      "[1] \">>> CellChat inference is done. Parameter values are stored in `object@options$parameter` <<< [2025-06-09 13:00:55.653323]\"\n",
      "[1] \"running: filterCommunication\"\n",
      "[1] \"running: computeCommunProbPathway\"\n",
      "[1] \"running: saveRDS for sample:  HDM_day30\"\n"
     ]
    }
   ],
   "source": [
    "cellchat_sample(sce, 'HDM_day3', cellchat_out_dir)\n",
    "cellchat_sample(sce, 'HDM_day30', cellchat_out_dir)\n"
   ]
  },
  {
   "cell_type": "code",
   "execution_count": 10,
   "metadata": {},
   "outputs": [
    {
     "data": {
      "text/plain": [
       "class: SingleCellExperiment \n",
       "dim: 480 499432 \n",
       "metadata(15): X_scvi_manager_uuid X_scvi_uuid ... sample_label_colors\n",
       "  umap\n",
       "assays(2): X counts\n",
       "rownames(480): Ache Acta2 ... Xist Zdhhc14\n",
       "rowData names(1): n_cells\n",
       "colnames(499432): aaaaagmb-1_0 aaaaboon-1_0 ... oileejmi-1_1\n",
       "  oilegecp-1_1\n",
       "colData names(85): cell_id x_centroid ... inside_bronchi n_genes\n",
       "reducedDimNames(7): X_pca X_scANVI ... X_umap_scvi_refalign spatial\n",
       "mainExpName: NULL\n",
       "altExpNames(0):"
      ]
     },
     "metadata": {},
     "output_type": "display_data"
    }
   ],
   "source": [
    "sce"
   ]
  }
 ],
 "metadata": {
  "kernelspec": {
   "display_name": "r_cellchat",
   "language": "R",
   "name": "r_cellchat"
  },
  "language_info": {
   "codemirror_mode": "r",
   "file_extension": ".r",
   "mimetype": "text/x-r-source",
   "name": "R",
   "pygments_lexer": "r",
   "version": "4.4.3"
  }
 },
 "nbformat": 4,
 "nbformat_minor": 4
}
