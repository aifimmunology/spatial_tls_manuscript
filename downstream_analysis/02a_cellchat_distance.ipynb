{
 "cells": [
  {
   "cell_type": "markdown",
   "metadata": {},
   "source": [
    "# Prep adata for cellchat - distinguish CD4 by distance from TLS / bronchi category"
   ]
  },
  {
   "cell_type": "code",
   "execution_count": 1,
   "metadata": {},
   "outputs": [],
   "source": [
    "import sys\n",
    "import os\n",
    "\n",
    "import scanpy as sc\n",
    "import matplotlib.pyplot as plt\n",
    "import numpy as np\n",
    "import warnings\n",
    "\n",
    "warnings.filterwarnings(\"ignore\")"
   ]
  },
  {
   "cell_type": "code",
   "execution_count": 7,
   "metadata": {},
   "outputs": [],
   "source": [
    "import pandas as pd"
   ]
  },
  {
   "cell_type": "code",
   "execution_count": 2,
   "metadata": {},
   "outputs": [],
   "source": [
    "dist_out_dir = '/home/workspace/spatial_mouse_lung_outputs/downstream_analysis/distance'\n",
    "\n",
    "if not os.path.exists (dist_out_dir):\n",
    "    os.makedirs(dist_out_dir)\n",
    "\n",
    "plot_out_dir = os.path.join(dist_out_dir, 'plots')\n",
    "if not os.path.exists (plot_out_dir):\n",
    "    os.makedirs(plot_out_dir)"
   ]
  },
  {
   "cell_type": "code",
   "execution_count": 13,
   "metadata": {},
   "outputs": [],
   "source": [
    "# adata = sc.read('/projects/Kennidy/Prostate_Spatial_R2/celltype_annotated_updated.h5ad')\n",
    "adata = sc.read_h5ad(os.path.join(dist_out_dir,'adata_distance_zones_structure.h5ad'))"
   ]
  },
  {
   "cell_type": "code",
   "execution_count": 14,
   "metadata": {},
   "outputs": [
    {
     "data": {
      "text/plain": [
       "['Col13a1+ fibroblast',\n",
       " 'Alv Mf',\n",
       " 'Cap',\n",
       " 'Vein',\n",
       " 'AT2',\n",
       " 'Mono',\n",
       " 'Th0',\n",
       " 'Pericyte 2',\n",
       " 'Cap-a',\n",
       " 'Neut',\n",
       " 'Pericyte 1',\n",
       " 'Club',\n",
       " 'Ciliated',\n",
       " 'Art',\n",
       " 'AT1',\n",
       " 'CD4 naive',\n",
       " 'B cell',\n",
       " 'Th17',\n",
       " 'Int Mf',\n",
       " 'CD8 naive',\n",
       " 'SMC',\n",
       " 'gd T cell',\n",
       " 'Plasmablast',\n",
       " 'Th2',\n",
       " 'Lymph',\n",
       " 'Ccr7- cDC2',\n",
       " 'NK cell',\n",
       " 'cDC1',\n",
       " 'CD4 trans',\n",
       " 'Ccr7+ cDC2',\n",
       " 'Th1',\n",
       " 'CD8 act',\n",
       " 'Mesothelial',\n",
       " 'Treg',\n",
       " 'Myofibroblast',\n",
       " 'Col14a1+ fibroblast',\n",
       " 'ILC2']"
      ]
     },
     "execution_count": 14,
     "metadata": {},
     "output_type": "execute_result"
    }
   ],
   "source": [
    "adata.obs['label_fine'].unique().tolist()"
   ]
  },
  {
   "cell_type": "code",
   "execution_count": 15,
   "metadata": {},
   "outputs": [
    {
     "data": {
      "text/plain": [
       "AnnData object with n_obs × n_vars = 593237 × 480\n",
       "    obs: 'cell_id', 'x_centroid', 'y_centroid', 'transcript_counts', 'control_probe_counts', 'genomic_control_counts', 'control_codeword_counts', 'unassigned_codeword_counts', 'deprecated_codeword_counts', 'total_counts', 'cell_area', 'nucleus_area', 'nucleus_count', 'segmentation_method', 'sample', 'n_genes_by_counts', 'log1p_n_genes_by_counts', 'log1p_total_counts', 'pct_counts_in_top_10_genes', 'pct_counts_in_top_20_genes', 'pct_counts_in_top_50_genes', 'pct_counts_in_top_150_genes', 'n_counts', 'sample_label', 'orig.ident', 'nCount_RNA', 'nFeature_RNA', 'percent.mito', 'Barcode', 'Age', 'Oxygen', 'percent.mt', 'S.Score', 'G2M.Score', 'Phase', 'Sample', 'RNA_snn_res.0.2', 'seurat_clusters', 'RNA_snn_res.0.15', 'nCount_SCT', 'nFeature_SCT', 'integrated_snn_res.0.2', 'integrated_snn_res.0.1', 'cluster_high_res', 'CellType', 'leiden_res1', 'CellType_consolidated', '_scvi_batch', '_scvi_labels', 'celltype_scanvi', 'C_scANVI', 'label_scanvi', 'leiden_scvi_refalign', 'cluster_cellcharter_8', 'cluster_cellcharter_9', 'cluster_cellcharter_10', 'cluster_cellcharter_11', 'cluster_cellcharter_12', 'cluster_cellcharter_13', 'label_fine', 'label_medium', 'label_coarse', 'label_coarser', 'timepoint', 'zone_consol', 'tls_index', 'tls_area', 'tls_centroid_x', 'tls_centroid_y', 'bronchi_index', 'bronchi_area', 'bronchi_centroid_x', 'bronchi_centroid_y', 'vessels_index', 'vessels_area', 'vessels_centroid_x', 'vessels_centroid_y', 'avg_distance_to_bronchi_zone', 'avg_distance_to_vessels_zone', 'avg_distance_to_TLS_zone', 'distance_to_tls', 'distance_to_bronchi', 'inside_tls', 'inside_bronchi'\n",
       "    uns: '_scvi_manager_uuid', '_scvi_uuid', 'label_fine_colors', 'label_medium_colors', 'label_scanvi_colors', 'label_scanvi_refine_colors', 'leiden', 'leiden_scvi_refalign_colors', 'neighbors_scanvi', 'neighbors_scvi_refalign', 'rank_genes_groups', 'sample_colors', 'sample_label_colors', 'umap'\n",
       "    obsm: 'X_pca', 'X_scANVI', 'X_scVI_refalign', 'X_umap', 'X_umap_scanvi_refalign', 'X_umap_scvi_refalign', 'spatial'\n",
       "    layers: 'counts'\n",
       "    obsp: 'neighbors_scanvi_connectivities', 'neighbors_scanvi_distances', 'neighbors_scvi_refalign_connectivities', 'neighbors_scvi_refalign_distances'"
      ]
     },
     "execution_count": 15,
     "metadata": {},
     "output_type": "execute_result"
    }
   ],
   "source": [
    "adata"
   ]
  },
  {
   "cell_type": "code",
   "execution_count": 16,
   "metadata": {},
   "outputs": [
    {
     "name": "stdout",
     "output_type": "stream",
     "text": [
      "Clipping x to 450\n",
      "Clipping y to 450\n"
     ]
    }
   ],
   "source": [
    "# make CD4 act category by distances \n",
    "def quantify_quadrant_expression(adata, \n",
    "                                 x_axis = 'avg_distance_to_bronchi_zone',\n",
    "                                 # y_axis = 'distance_to_tls',\n",
    "                                 y_axis = 'avg_distance_to_TLS_zone',\n",
    "                                 x_clip = 450, y_clip = 450,\n",
    "                                 # x_clip=None, y_clip=None,\n",
    "                                 x_threshold = 150, y_threshold = 100):\n",
    "    \n",
    "    adata = adata.copy()\n",
    "\n",
    "    # Clip x and y axes\n",
    "    if x_clip:\n",
    "        print('Clipping x to', x_clip)\n",
    "        adata = adata[adata.obs[x_axis] <= x_clip, :]\n",
    "    if y_clip:\n",
    "        print('Clipping y to', y_clip)\n",
    "        adata = adata[adata.obs[y_axis] <= y_clip, :]\n",
    "        \n",
    "    quadrant_order = ['near-bronchi (B)', 'parenchyma (P)', 'near-TLS (T)']\n",
    "    adata.obs['spatial_quadrant']= 'none'\n",
    "    adata.obs.loc[(adata.obs[x_axis] > x_threshold) & (adata.obs[y_axis] > y_threshold), 'spatial_quadrant'] = 'parenchyma (P)'\n",
    "    adata.obs.loc[adata.obs[y_axis] < y_threshold, 'spatial_quadrant'] = 'near-TLS (T)'\n",
    "    adata.obs.loc[(adata.obs[x_axis] < x_threshold) & (adata.obs[y_axis] > y_threshold), 'spatial_quadrant'] = 'near-bronchi (B)'\n",
    "    # adata.obs.loc[(adata.obs[x_axis] < x_threshold) & (adata.obs[y_axis] < y_threshold), 'spatial_quadrant'] = 'near-both'\n",
    "    adata.obs['spatial_quadrant'] = pd.Categorical(adata.obs['spatial_quadrant'], categories=quadrant_order, ordered=True)\n",
    "    return(adata) \n",
    "\n",
    "# make columns for spatial_quadrant\n",
    "adata = quantify_quadrant_expression(adata)\n",
    "\n",
    "# set labels\n",
    "adata.obs['spatial_quadrant'] = adata.obs['spatial_quadrant'].values.tolist()\n",
    "adata.obs['label_fine'] = adata.obs['label_fine'].values.tolist()"
   ]
  },
  {
   "cell_type": "code",
   "execution_count": 17,
   "metadata": {},
   "outputs": [
    {
     "data": {
      "text/plain": [
       "array(['parenchyma (P)', 'near-bronchi (B)', 'near-TLS (T)'], dtype=object)"
      ]
     },
     "execution_count": 17,
     "metadata": {},
     "output_type": "execute_result"
    }
   ],
   "source": [
    "adata.obs['spatial_quadrant'].unique()"
   ]
  },
  {
   "cell_type": "code",
   "execution_count": 18,
   "metadata": {},
   "outputs": [
    {
     "name": "stdout",
     "output_type": "stream",
     "text": [
      "Updated T cell categories:\n",
      "label_fine\n",
      "CD4 act (parenchyma (P))      3028\n",
      "CD4 act (near-TLS (T))        2008\n",
      "CD4 act (near-bronchi (B))    1636\n",
      "Name: count, dtype: int64\n"
     ]
    }
   ],
   "source": [
    "#wherever cell_type_1 is 'T Cells', add the classification to the cell_type_1 column\n",
    "# Create a mask for CD4 act\n",
    "cd4_mask = adata.obs['label_fine'].isin(['Th0', 'Th1', 'Th17', 'Th2', 'Treg', 'CD4 trans'])\n",
    "\n",
    "# make single activated T cell label per region \n",
    "adata.obs.loc[cd4_mask, 'label_fine'] = (\n",
    "    'CD4 act (' + adata.obs.loc[cd4_mask, 'spatial_quadrant'] + ')'\n",
    ")\n",
    "\n",
    "# Check the updated cell types\n",
    "print(\"Updated T cell categories:\")\n",
    "print(adata.obs.loc[cd4_mask, 'label_fine'].value_counts())\n",
    "\n",
    "# adata.obs['label_medium']\n"
   ]
  },
  {
   "cell_type": "code",
   "execution_count": 19,
   "metadata": {},
   "outputs": [],
   "source": [
    "sc.pp.filter_cells(adata, min_genes=5)\n",
    "sc.pp.filter_genes(adata, min_cells=5)"
   ]
  },
  {
   "cell_type": "code",
   "execution_count": 20,
   "metadata": {},
   "outputs": [],
   "source": [
    "\n",
    "sc.pp.normalize_total(adata, target_sum=1e4)\n",
    "sc.pp.log1p(adata)"
   ]
  },
  {
   "cell_type": "markdown",
   "metadata": {},
   "source": [
    "# Assign all cells"
   ]
  },
  {
   "cell_type": "code",
   "execution_count": 21,
   "metadata": {},
   "outputs": [],
   "source": [
    "adata.write_h5ad(os.path.join(dist_out_dir,'adata_cellchat_distance_prepped.h5ad'))"
   ]
  },
  {
   "cell_type": "code",
   "execution_count": 26,
   "metadata": {},
   "outputs": [
    {
     "data": {
      "text/plain": [
       "True"
      ]
     },
     "execution_count": 26,
     "metadata": {},
     "output_type": "execute_result"
    }
   ],
   "source": [
    "'Il1rl1' in adata.var.index"
   ]
  },
  {
   "cell_type": "code",
   "execution_count": 27,
   "metadata": {},
   "outputs": [
    {
     "data": {
      "text/plain": [
       "False"
      ]
     },
     "execution_count": 27,
     "metadata": {},
     "output_type": "execute_result"
    }
   ],
   "source": [
    "'Il1rap' in adata.var.index"
   ]
  },
  {
   "cell_type": "code",
   "execution_count": null,
   "metadata": {},
   "outputs": [],
   "source": []
  }
 ],
 "metadata": {
  "kernelspec": {
   "display_name": "space2",
   "language": "python",
   "name": "space2"
  },
  "language_info": {
   "codemirror_mode": {
    "name": "ipython",
    "version": 3
   },
   "file_extension": ".py",
   "mimetype": "text/x-python",
   "name": "python",
   "nbconvert_exporter": "python",
   "pygments_lexer": "ipython3",
   "version": "3.12.2"
  }
 },
 "nbformat": 4,
 "nbformat_minor": 4
}
